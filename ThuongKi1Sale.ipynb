{
 "cells": [
  {
   "cell_type": "code",
   "execution_count": 1,
   "id": "95046d07",
   "metadata": {},
   "outputs": [
    {
     "data": {
      "text/html": [
       "<div>\n",
       "<style scoped>\n",
       "    .dataframe tbody tr th:only-of-type {\n",
       "        vertical-align: middle;\n",
       "    }\n",
       "\n",
       "    .dataframe tbody tr th {\n",
       "        vertical-align: top;\n",
       "    }\n",
       "\n",
       "    .dataframe thead th {\n",
       "        text-align: right;\n",
       "    }\n",
       "</style>\n",
       "<table border=\"1\" class=\"dataframe\">\n",
       "  <thead>\n",
       "    <tr style=\"text-align: right;\">\n",
       "      <th></th>\n",
       "      <th>ORDERNUMBER</th>\n",
       "      <th>QUANTITYORDERED</th>\n",
       "      <th>ORDERLINENUMBER</th>\n",
       "      <th>SALES</th>\n",
       "      <th>ORDERDATE</th>\n",
       "      <th>STATUS</th>\n",
       "      <th>COUNTRY</th>\n",
       "      <th>DEALSIZE</th>\n",
       "    </tr>\n",
       "  </thead>\n",
       "  <tbody>\n",
       "    <tr>\n",
       "      <th>0</th>\n",
       "      <td>10107</td>\n",
       "      <td>30</td>\n",
       "      <td>2</td>\n",
       "      <td>2871.00</td>\n",
       "      <td>2/24/2003 0:00</td>\n",
       "      <td>Shipped</td>\n",
       "      <td>USA</td>\n",
       "      <td>Small</td>\n",
       "    </tr>\n",
       "    <tr>\n",
       "      <th>1</th>\n",
       "      <td>10121</td>\n",
       "      <td>34</td>\n",
       "      <td>5</td>\n",
       "      <td>2765.90</td>\n",
       "      <td>5/7/2003 0:00</td>\n",
       "      <td>Shipped</td>\n",
       "      <td>France</td>\n",
       "      <td>Small</td>\n",
       "    </tr>\n",
       "    <tr>\n",
       "      <th>2</th>\n",
       "      <td>10134</td>\n",
       "      <td>41</td>\n",
       "      <td>2</td>\n",
       "      <td>3884.34</td>\n",
       "      <td>7/1/2003 0:00</td>\n",
       "      <td>Shipped</td>\n",
       "      <td>France</td>\n",
       "      <td>Medium</td>\n",
       "    </tr>\n",
       "    <tr>\n",
       "      <th>3</th>\n",
       "      <td>10145</td>\n",
       "      <td>45</td>\n",
       "      <td>6</td>\n",
       "      <td>3746.70</td>\n",
       "      <td>8/25/2003 0:00</td>\n",
       "      <td>Shipped</td>\n",
       "      <td>USA</td>\n",
       "      <td>Medium</td>\n",
       "    </tr>\n",
       "    <tr>\n",
       "      <th>4</th>\n",
       "      <td>10159</td>\n",
       "      <td>49</td>\n",
       "      <td>14</td>\n",
       "      <td>5205.27</td>\n",
       "      <td>10/10/2003 0:00</td>\n",
       "      <td>Shipped</td>\n",
       "      <td>USA</td>\n",
       "      <td>Medium</td>\n",
       "    </tr>\n",
       "  </tbody>\n",
       "</table>\n",
       "</div>"
      ],
      "text/plain": [
       "   ORDERNUMBER  QUANTITYORDERED  ORDERLINENUMBER    SALES        ORDERDATE  \\\n",
       "0        10107               30                2  2871.00   2/24/2003 0:00   \n",
       "1        10121               34                5  2765.90    5/7/2003 0:00   \n",
       "2        10134               41                2  3884.34    7/1/2003 0:00   \n",
       "3        10145               45                6  3746.70   8/25/2003 0:00   \n",
       "4        10159               49               14  5205.27  10/10/2003 0:00   \n",
       "\n",
       "    STATUS COUNTRY DEALSIZE  \n",
       "0  Shipped     USA    Small  \n",
       "1  Shipped  France    Small  \n",
       "2  Shipped  France   Medium  \n",
       "3  Shipped     USA   Medium  \n",
       "4  Shipped     USA   Medium  "
      ]
     },
     "execution_count": 1,
     "metadata": {},
     "output_type": "execute_result"
    }
   ],
   "source": [
    "import pandas as pd\n",
    "\n",
    "# Đường dẫn đến tệp CSV\n",
    "file_path = 'D:\\\\duLieuKhac\\\\sales_data_sample.csv'\n",
    "\n",
    "# Đọc tệp CSV vào DataFrame\n",
    "df = pd.read_csv(file_path)\n",
    "\n",
    "# Hiển thị một số dòng đầu của DataFrame\n",
    "df.head()"
   ]
  },
  {
   "cell_type": "code",
   "execution_count": 4,
   "id": "aaa18638",
   "metadata": {},
   "outputs": [
    {
     "data": {
      "text/plain": [
       "ORDERNUMBER                  10339\n",
       "QUANTITYORDERED                 39\n",
       "ORDERLINENUMBER                  3\n",
       "SALES                      2990.13\n",
       "ORDERDATE          11/23/2004 0:00\n",
       "STATUS                     Shipped\n",
       "COUNTRY                      Japan\n",
       "DEALSIZE                     Small\n",
       "Name: 100, dtype: object"
      ]
     },
     "execution_count": 4,
     "metadata": {},
     "output_type": "execute_result"
    }
   ],
   "source": [
    "df.loc[100]\n",
    "#hiển thị index=100"
   ]
  },
  {
   "cell_type": "code",
   "execution_count": 9,
   "id": "3dc33b20",
   "metadata": {},
   "outputs": [
    {
     "data": {
      "text/html": [
       "<div>\n",
       "<style scoped>\n",
       "    .dataframe tbody tr th:only-of-type {\n",
       "        vertical-align: middle;\n",
       "    }\n",
       "\n",
       "    .dataframe tbody tr th {\n",
       "        vertical-align: top;\n",
       "    }\n",
       "\n",
       "    .dataframe thead th {\n",
       "        text-align: right;\n",
       "    }\n",
       "</style>\n",
       "<table border=\"1\" class=\"dataframe\">\n",
       "  <thead>\n",
       "    <tr style=\"text-align: right;\">\n",
       "      <th></th>\n",
       "      <th>ORDERNUMBER</th>\n",
       "      <th>QUANTITYORDERED</th>\n",
       "      <th>ORDERLINENUMBER</th>\n",
       "      <th>SALES</th>\n",
       "      <th>ORDERDATE</th>\n",
       "      <th>STATUS</th>\n",
       "      <th>COUNTRY</th>\n",
       "      <th>DEALSIZE</th>\n",
       "    </tr>\n",
       "  </thead>\n",
       "  <tbody>\n",
       "    <tr>\n",
       "      <th>98</th>\n",
       "      <td>10318</td>\n",
       "      <td>37</td>\n",
       "      <td>3</td>\n",
       "      <td>7667.14</td>\n",
       "      <td>11/2/2004 0:00</td>\n",
       "      <td>Shipped</td>\n",
       "      <td>USA</td>\n",
       "      <td>Large</td>\n",
       "    </tr>\n",
       "    <tr>\n",
       "      <th>99</th>\n",
       "      <td>10329</td>\n",
       "      <td>26</td>\n",
       "      <td>3</td>\n",
       "      <td>5868.20</td>\n",
       "      <td>11/15/2004 0:00</td>\n",
       "      <td>Shipped</td>\n",
       "      <td>USA</td>\n",
       "      <td>Medium</td>\n",
       "    </tr>\n",
       "    <tr>\n",
       "      <th>100</th>\n",
       "      <td>10339</td>\n",
       "      <td>39</td>\n",
       "      <td>3</td>\n",
       "      <td>2990.13</td>\n",
       "      <td>11/23/2004 0:00</td>\n",
       "      <td>Shipped</td>\n",
       "      <td>Japan</td>\n",
       "      <td>Small</td>\n",
       "    </tr>\n",
       "    <tr>\n",
       "      <th>101</th>\n",
       "      <td>10362</td>\n",
       "      <td>22</td>\n",
       "      <td>4</td>\n",
       "      <td>3664.10</td>\n",
       "      <td>1/5/2005 0:00</td>\n",
       "      <td>Shipped</td>\n",
       "      <td>USA</td>\n",
       "      <td>Medium</td>\n",
       "    </tr>\n",
       "  </tbody>\n",
       "</table>\n",
       "</div>"
      ],
      "text/plain": [
       "     ORDERNUMBER  QUANTITYORDERED  ORDERLINENUMBER    SALES        ORDERDATE  \\\n",
       "98         10318               37                3  7667.14   11/2/2004 0:00   \n",
       "99         10329               26                3  5868.20  11/15/2004 0:00   \n",
       "100        10339               39                3  2990.13  11/23/2004 0:00   \n",
       "101        10362               22                4  3664.10    1/5/2005 0:00   \n",
       "\n",
       "      STATUS COUNTRY DEALSIZE  \n",
       "98   Shipped     USA    Large  \n",
       "99   Shipped     USA   Medium  \n",
       "100  Shipped   Japan    Small  \n",
       "101  Shipped     USA   Medium  "
      ]
     },
     "execution_count": 9,
     "metadata": {},
     "output_type": "execute_result"
    }
   ],
   "source": [
    "df.loc[98:101]"
   ]
  },
  {
   "cell_type": "code",
   "execution_count": 4,
   "id": "7240819d",
   "metadata": {},
   "outputs": [
    {
     "name": "stdout",
     "output_type": "stream",
     "text": [
      "0.21232496378561083\n"
     ]
    }
   ],
   "source": [
    "def absolute_maximum_scale(series):\n",
    "    return series / series.abs().max()\n",
    "\n",
    "for col in df.columns:\n",
    "    df[col] = absolute_maximum_scale(df['SALES'])\n",
    "\n",
    "print(df['SALES'].loc[100])"
   ]
  },
  {
   "cell_type": "code",
   "execution_count": 5,
   "id": "f340f469",
   "metadata": {},
   "outputs": [
    {
     "name": "stdout",
     "output_type": "stream",
     "text": [
      "Leptokurtic\n"
     ]
    }
   ],
   "source": [
    "import scipy.stats as stats\n",
    "import numpy as np\n",
    "\n",
    "\n",
    "# Tính kurtosis\n",
    "kurtosis = stats.kurtosis(df['SALES'])\n",
    "\n",
    "# Dựa vào giá trị kurtosis để xác định mức độ\n",
    "if kurtosis < 0:\n",
    "    print(\"Platykurtic\")\n",
    "elif kurtosis == 0:\n",
    "    print(\"Mesokurtic (Normal)\")\n",
    "else:\n",
    "    print(\"Leptokurtic\")\n"
   ]
  },
  {
   "cell_type": "code",
   "execution_count": 6,
   "id": "b64ff2e8",
   "metadata": {},
   "outputs": [
    {
     "data": {
      "image/png": "[encoded data removed]",
      "text/plain": [
       "<Figure size 640x480 with 1 Axes>"
      ]
     },
     "metadata": {},
     "output_type": "display_data"
    }
   ],
   "source": [
    "import matplotlib.pyplot as plt\n",
    "\n",
    "# Dữ liệu định lượng thứ nhất (X) và thứ hai (Y)\n",
    "X =df['QUANTITYORDERED']\n",
    "Y = df['SALES']\n",
    "# Vẽ scatterplot\n",
    "plt.scatter(X, Y)\n",
    "\n",
    "# Đặt tiêu đề cho trục x và trục y\n",
    "plt.xlabel(\"QUANTITYORDERED\")\n",
    "plt.ylabel(\"SALES\")\n",
    "\n",
    "# Đặt tiêu đề cho biểu đồ\n",
    "plt.title(\"Biểu đồ Scatterplot của hai dữ liệu định lượng\")\n",
    "\n",
    "# Hiển thị biểu đồ\n",
    "plt.show()\n"
   ]
  },
  {
   "cell_type": "code",
   "execution_count": 84,
   "id": "73374f5e",
   "metadata": {},
   "outputs": [
    {
     "name": "stdout",
     "output_type": "stream",
     "text": [
      "Sắp xếp giảm dần theo độ lệch của log:\n",
      "598     14082.80\n",
      "744     12536.50\n",
      "53      12001.00\n",
      "1062    11887.80\n",
      "104     11886.60\n",
      "          ...   \n",
      "1818      640.05\n",
      "1551      577.60\n",
      "2044      553.95\n",
      "1287      541.14\n",
      "2249      482.13\n",
      "Name: SALES, Length: 2823, dtype: float64\n",
      "Sắp xếp giảm dần theo độ lệch của sqrt:\n",
      "598     14082.80\n",
      "744     12536.50\n",
      "53      12001.00\n",
      "1062    11887.80\n",
      "104     11886.60\n",
      "          ...   \n",
      "1818      640.05\n",
      "1551      577.60\n",
      "2044      553.95\n",
      "1287      541.14\n",
      "2249      482.13\n",
      "Name: SALES, Length: 2823, dtype: float64\n",
      "Sắp xếp giảm dần theo độ lệch của cube root:\n",
      "598     14082.80\n",
      "744     12536.50\n",
      "53      12001.00\n",
      "1062    11887.80\n",
      "104     11886.60\n",
      "          ...   \n",
      "1818      640.05\n",
      "1551      577.60\n",
      "2044      553.95\n",
      "1287      541.14\n",
      "2249      482.13\n",
      "Name: SALES, Length: 2823, dtype: float64\n"
     ]
    }
   ],
   "source": [
    "import numpy as np\n",
    "\n",
    "# Tạo một dãy giá trị định lượng x\n",
    "x_values = df['SALES']\n",
    "\n",
    "# Hàm biến đổi log\n",
    "log_transformed_values = np.log(x_values)\n",
    "\n",
    "# Hàm biến đổi sqrt (căn bậc hai)\n",
    "sqrt_transformed_values = np.sqrt(x_values)\n",
    "\n",
    "# Hàm biến đổi cube root (căn bậc ba)\n",
    "cuberoot_transformed_values = np.cbrt(x_values)\n",
    "\n",
    "# Tính độ lệch cho từng biến đổi\n",
    "log_deviation = x_values - log_transformed_values\n",
    "sqrt_deviation = x_values - sqrt_transformed_values\n",
    "cuberoot_deviation = x_values - cuberoot_transformed_values\n",
    "\n",
    "# Sắp xếp giảm dần theo độ lệch của log\n",
    "sorted_indices_log = np.argsort(log_deviation)[::-1]\n",
    "\n",
    "# Sắp xếp giảm dần theo độ lệch của sqrt\n",
    "sorted_indices_sqrt = np.argsort(sqrt_deviation)[::-1]\n",
    "\n",
    "# Sắp xếp giảm dần theo độ lệch của cube root\n",
    "sorted_indices_cuberoot = np.argsort(cuberoot_deviation)[::-1]\n",
    "\n",
    "# Hiển thị kết quả\n",
    "print(\"Sắp xếp giảm dần theo độ lệch của log:\")\n",
    "print(x_values[sorted_indices_log])\n",
    "print(\"Sắp xếp giảm dần theo độ lệch của sqrt:\")\n",
    "print(x_values[sorted_indices_sqrt])\n",
    "print(\"Sắp xếp giảm dần theo độ lệch của cube root:\")\n",
    "print(x_values[sorted_indices_cuberoot])\n",
    "\n",
    "\n"
   ]
  },
  {
   "cell_type": "code",
   "execution_count": 70,
   "id": "fd704c3d",
   "metadata": {},
   "outputs": [
    {
     "data": {
      "text/plain": [
       "ORDERNUMBER        93\n",
       "QUANTITYORDERED    93\n",
       "ORDERLINENUMBER    93\n",
       "SALES              93\n",
       "ORDERDATE          93\n",
       "STATUS             93\n",
       "COUNTRY            93\n",
       "DEALSIZE           93\n",
       "dtype: int64"
      ]
     },
     "execution_count": 70,
     "metadata": {},
     "output_type": "execute_result"
    }
   ],
   "source": [
    "df[df['QUANTITYORDERED']==20].count()\n"
   ]
  },
  {
   "cell_type": "code",
   "execution_count": 71,
   "id": "cbeea713",
   "metadata": {},
   "outputs": [
    {
     "data": {
      "text/plain": [
       "ORDERNUMBER        3\n",
       "QUANTITYORDERED    3\n",
       "ORDERLINENUMBER    3\n",
       "SALES              3\n",
       "ORDERDATE          3\n",
       "STATUS             3\n",
       "COUNTRY            3\n",
       "DEALSIZE           3\n",
       "dtype: int64"
      ]
     },
     "execution_count": 71,
     "metadata": {},
     "output_type": "execute_result"
    }
   ],
   "source": [
    "df[df['QUANTITYORDERED']==18].count()"
   ]
  },
  {
   "cell_type": "code",
   "execution_count": 72,
   "id": "22e58a59",
   "metadata": {},
   "outputs": [
    {
     "data": {
      "text/plain": [
       "ORDERNUMBER        3\n",
       "QUANTITYORDERED    3\n",
       "ORDERLINENUMBER    3\n",
       "SALES              3\n",
       "ORDERDATE          3\n",
       "STATUS             3\n",
       "COUNTRY            3\n",
       "DEALSIZE           3\n",
       "dtype: int64"
      ]
     },
     "execution_count": 72,
     "metadata": {},
     "output_type": "execute_result"
    }
   ],
   "source": [
    "df[df['QUANTITYORDERED']==19].count()"
   ]
  },
  {
   "cell_type": "code",
   "execution_count": 73,
   "id": "59d80244",
   "metadata": {},
   "outputs": [
    {
     "data": {
      "text/plain": [
       "ORDERNUMBER        103\n",
       "QUANTITYORDERED    103\n",
       "ORDERLINENUMBER    103\n",
       "SALES              103\n",
       "ORDERDATE          103\n",
       "STATUS             103\n",
       "COUNTRY            103\n",
       "DEALSIZE           103\n",
       "dtype: int64"
      ]
     },
     "execution_count": 73,
     "metadata": {},
     "output_type": "execute_result"
    }
   ],
   "source": [
    "df[df['QUANTITYORDERED']==21].count()"
   ]
  },
  {
   "cell_type": "code",
   "execution_count": 74,
   "id": "f5e19569",
   "metadata": {},
   "outputs": [
    {
     "data": {
      "text/plain": [
       "ORDERNUMBER        92\n",
       "QUANTITYORDERED    92\n",
       "ORDERLINENUMBER    92\n",
       "SALES              92\n",
       "ORDERDATE          92\n",
       "STATUS             92\n",
       "COUNTRY            92\n",
       "DEALSIZE           92\n",
       "dtype: int64"
      ]
     },
     "execution_count": 74,
     "metadata": {},
     "output_type": "execute_result"
    }
   ],
   "source": [
    "df[df['QUANTITYORDERED']==22].count()"
   ]
  },
  {
   "cell_type": "code",
   "execution_count": 8,
   "id": "050a523e",
   "metadata": {},
   "outputs": [
    {
     "name": "stdout",
     "output_type": "stream",
     "text": [
      "                     df         sum_sq       mean_sq           F  \\\n",
      "STATUS              5.0    3562.031394    712.406279   10.009901   \n",
      "DEALSIZE            2.0   59596.757162  29798.378581  418.692006   \n",
      "STATUS:DEALSIZE    10.0    4992.576966    499.257697    7.014986   \n",
      "Residual         2806.0  199703.479021     71.170164         NaN   \n",
      "\n",
      "                        PR(>F)  \n",
      "STATUS            1.645894e-09  \n",
      "DEALSIZE         7.508513e-160  \n",
      "STATUS:DEALSIZE   5.824886e-11  \n",
      "Residual                   NaN  \n"
     ]
    }
   ],
   "source": [
    "# Hãy cho biết điểm LOGIC có phụ thuộc vào loại GT trên từng nhóm KV hay không\n",
    "import statsmodels.api as sm\n",
    "from statsmodels.formula.api import ols\n",
    "model = ols('QUANTITYORDERED ~ STATUS + DEALSIZE + STATUS:DEALSIZE',data=df).fit()\n",
    "result = sm.stats.anova_lm(model, type=2)\n",
    " \n",
    "# Print the result\n",
    "print(result)"
   ]
  },
  {
   "cell_type": "code",
   "execution_count": 7,
   "id": "e999b04b",
   "metadata": {
    "scrolled": true
   },
   "outputs": [
    {
     "name": "stdout",
     "output_type": "stream",
     "text": [
      "Giá trị Chi-square: 34.344354882679596\n",
      "Giá trị p-value: 0.0001614574648411617\n",
      "Bậc tự do: 10\n",
      "Giá trị dự kiến: [[3.33687566e+00 2.94155154e+01 2.72476089e+01]\n",
      " [7.78604322e-01 6.86362026e+00 6.35777542e+00]\n",
      " [2.28019837e+00 2.01006022e+01 1.86191994e+01]\n",
      " [2.44704215e+00 2.15713780e+01 1.99815799e+01]\n",
      " [2.61388594e+00 2.30421537e+01 2.13439603e+01]\n",
      " [1.45543394e+02 1.28300673e+03 1.18844988e+03]]\n"
     ]
    }
   ],
   "source": [
    "from scipy.stats import chi2_contingency\n",
    "contingency_table = pd.crosstab(df['STATUS'], df['DEALSIZE'])\n",
    "chi2, p, dof, expected = chi2_contingency(contingency_table)\n",
    "\n",
    "print(\"Giá trị Chi-square:\", chi2)\n",
    "print(\"Giá trị p-value:\", p)\n",
    "print(\"Bậc tự do:\", dof)\n",
    "print(\"Giá trị dự kiến:\", expected)\n"
   ]
  },
  {
   "cell_type": "code",
   "execution_count": 104,
   "id": "125a3df3",
   "metadata": {},
   "outputs": [
    {
     "name": "stdout",
     "output_type": "stream",
     "text": [
      "50    0.571492\n",
      "51    0.142230\n",
      "52    0.268965\n",
      "53    0.846934\n",
      "54    0.251044\n",
      "55    0.169972\n",
      "56    0.207757\n",
      "57    0.346367\n",
      "58    0.333417\n",
      "59    0.233724\n",
      "Name: SALES, dtype: float64\n"
     ]
    }
   ],
   "source": [
    "def min_max_scaling(series):\n",
    "    return (series - series.min()) / (series.max() - series.min())\n",
    "\n",
    "for col in df.columns:\n",
    "    df[col] = min_max_scaling(df['SALES'])\n",
    "\n",
    "print(df['SALES'].loc[50:59])\n"
   ]
  },
  {
   "cell_type": "code",
   "execution_count": 107,
   "id": "a798f488",
   "metadata": {},
   "outputs": [
    {
     "data": {
      "text/plain": [
       "0       0.175644\n",
       "1       0.167916\n",
       "2       0.250150\n",
       "3       0.240030\n",
       "4       0.347273\n",
       "          ...   \n",
       "2818    0.129572\n",
       "2819    0.257074\n",
       "2820    0.362882\n",
       "2821    0.120143\n",
       "2822    0.190969\n",
       "Name: SALES, Length: 2823, dtype: float64"
      ]
     },
     "execution_count": 107,
     "metadata": {},
     "output_type": "execute_result"
    }
   ],
   "source": [
    "def min_max_scaling(series):\n",
    "    return (series - series.min()) / (series.max() - series.min())\n",
    "\n",
    "min_max_scaling(df['SALES'])\n"
   ]
  },
  {
   "cell_type": "code",
   "execution_count": 119,
   "id": "0c495273",
   "metadata": {},
   "outputs": [
    {
     "name": "stdout",
     "output_type": "stream",
     "text": [
      "1.0\n"
     ]
    }
   ],
   "source": [
    "x=10000\n",
    "z_score = (x - df['SALES'].min()) / (10000 - df['SALES'].min())\n",
    "\n",
    "print(z_score)"
   ]
  },
  {
   "cell_type": "code",
   "execution_count": 126,
   "id": "eda3d292",
   "metadata": {},
   "outputs": [
    {
     "data": {
      "image/png": "[encoded data removed]",
      "text/plain": [
       "<Figure size 640x480 with 1 Axes>"
      ]
     },
     "metadata": {},
     "output_type": "display_data"
    }
   ],
   "source": [
    "import matplotlib.pyplot as plt\n",
    "import seaborn as sns\n",
    "import numpy as np\n",
    "\n",
    "gb=df.groupby(['DEALSIZE'])['QUANTITYORDERED'].agg(['sum'])\n",
    "labels=gb.index\n",
    "data=list(gb['sum'])\n",
    "colors=sns.color_palette('pastel')\n",
    "plt.pie(data,labels=labels,colors=colors,autopct='%1.1f%%',shadow=True)\n",
    "plt.show()"
   ]
  },
  {
   "cell_type": "code",
   "execution_count": 26,
   "id": "7171c0bf",
   "metadata": {},
   "outputs": [
    {
     "name": "stdout",
     "output_type": "stream",
     "text": [
      "0.24995571694468458\n"
     ]
    }
   ],
   "source": [
    "x=4014.27378493\n",
    "z_score = (x - df['SALES'].mean()) / df['SALES'].std()\n",
    "\n",
    "print(z_score)"
   ]
  },
  {
   "cell_type": "code",
   "execution_count": 142,
   "id": "f7e0fe2c",
   "metadata": {},
   "outputs": [
    {
     "name": "stdout",
     "output_type": "stream",
     "text": [
      "Hệ số tương quan Pearson giữa X và Y là: 0.5514261919183567\n"
     ]
    }
   ],
   "source": [
    "correlation = np.corrcoef(df['QUANTITYORDERED'], df['SALES'])[0, 1]\n",
    "\n",
    "print(\"Hệ số tương quan Pearson giữa X và Y là:\", correlation)"
   ]
  },
  {
   "cell_type": "code",
   "execution_count": 143,
   "id": "b8051eb8",
   "metadata": {},
   "outputs": [
    {
     "data": {
      "image/png": "[encoded data removed]",
      "text/plain": [
       "<Figure size 800x600 with 1 Axes>"
      ]
     },
     "metadata": {},
     "output_type": "display_data"
    }
   ],
   "source": [
    "import seaborn as sns\n",
    "import matplotlib.pyplot as plt\n",
    "plt.figure(figsize=(8, 6))\n",
    "sns.boxplot(x='DEALSIZE', y='SALES', data=df)\n",
    "plt.xlabel('DEALSIZE')\n",
    "plt.ylabel('SALES')\n",
    "plt.title('Biểu đồ')\n",
    "plt.show()\n",
    "\n",
    "\n",
    "\n",
    "\n",
    "\n",
    "\n"
   ]
  },
  {
   "cell_type": "code",
   "execution_count": 145,
   "id": "15135950",
   "metadata": {},
   "outputs": [
    {
     "data": {
      "image/png": "[encoded data removed]",
      "text/plain": [
       "<Figure size 640x480 with 1 Axes>"
      ]
     },
     "metadata": {},
     "output_type": "display_data"
    }
   ],
   "source": [
    "import matplotlib.pyplot as plt\n",
    "import seaborn as sns\n",
    "import numpy as np\n",
    "sns.barplot(x='STATUS',y='SALES',data=df,errorbar=None)\n",
    "plt.show()\n"
   ]
  },
  {
   "cell_type": "code",
   "execution_count": 28,
   "id": "2edad0f0",
   "metadata": {},
   "outputs": [
    {
     "data": {
      "text/html": [
       "<div>\n",
       "<style scoped>\n",
       "    .dataframe tbody tr th:only-of-type {\n",
       "        vertical-align: middle;\n",
       "    }\n",
       "\n",
       "    .dataframe tbody tr th {\n",
       "        vertical-align: top;\n",
       "    }\n",
       "\n",
       "    .dataframe thead th {\n",
       "        text-align: right;\n",
       "    }\n",
       "</style>\n",
       "<table border=\"1\" class=\"dataframe\">\n",
       "  <thead>\n",
       "    <tr style=\"text-align: right;\">\n",
       "      <th></th>\n",
       "      <th>ORDERNUMBER</th>\n",
       "      <th>QUANTITYORDERED</th>\n",
       "      <th>ORDERLINENUMBER</th>\n",
       "      <th>SALES</th>\n",
       "      <th>ORDERDATE</th>\n",
       "      <th>STATUS</th>\n",
       "      <th>COUNTRY</th>\n",
       "      <th>DEALSIZE</th>\n",
       "    </tr>\n",
       "  </thead>\n",
       "  <tbody>\n",
       "    <tr>\n",
       "      <th>98</th>\n",
       "      <td>0.528284</td>\n",
       "      <td>0.528284</td>\n",
       "      <td>0.528284</td>\n",
       "      <td>0.528284</td>\n",
       "      <td>0.528284</td>\n",
       "      <td>0.528284</td>\n",
       "      <td>0.528284</td>\n",
       "      <td>0.528284</td>\n",
       "    </tr>\n",
       "    <tr>\n",
       "      <th>99</th>\n",
       "      <td>0.396015</td>\n",
       "      <td>0.396015</td>\n",
       "      <td>0.396015</td>\n",
       "      <td>0.396015</td>\n",
       "      <td>0.396015</td>\n",
       "      <td>0.396015</td>\n",
       "      <td>0.396015</td>\n",
       "      <td>0.396015</td>\n",
       "    </tr>\n",
       "    <tr>\n",
       "      <th>100</th>\n",
       "      <td>0.184403</td>\n",
       "      <td>0.184403</td>\n",
       "      <td>0.184403</td>\n",
       "      <td>0.184403</td>\n",
       "      <td>0.184403</td>\n",
       "      <td>0.184403</td>\n",
       "      <td>0.184403</td>\n",
       "      <td>0.184403</td>\n",
       "    </tr>\n",
       "    <tr>\n",
       "      <th>101</th>\n",
       "      <td>0.233957</td>\n",
       "      <td>0.233957</td>\n",
       "      <td>0.233957</td>\n",
       "      <td>0.233957</td>\n",
       "      <td>0.233957</td>\n",
       "      <td>0.233957</td>\n",
       "      <td>0.233957</td>\n",
       "      <td>0.233957</td>\n",
       "    </tr>\n",
       "  </tbody>\n",
       "</table>\n",
       "</div>"
      ],
      "text/plain": [
       "     ORDERNUMBER  QUANTITYORDERED  ORDERLINENUMBER     SALES  ORDERDATE  \\\n",
       "98      0.528284         0.528284         0.528284  0.528284   0.528284   \n",
       "99      0.396015         0.396015         0.396015  0.396015   0.396015   \n",
       "100     0.184403         0.184403         0.184403  0.184403   0.184403   \n",
       "101     0.233957         0.233957         0.233957  0.233957   0.233957   \n",
       "\n",
       "       STATUS   COUNTRY  DEALSIZE  \n",
       "98   0.528284  0.528284  0.528284  \n",
       "99   0.396015  0.396015  0.396015  \n",
       "100  0.184403  0.184403  0.184403  \n",
       "101  0.233957  0.233957  0.233957  "
      ]
     },
     "execution_count": 28,
     "metadata": {},
     "output_type": "execute_result"
    }
   ],
   "source": [
    "def min_max_scaling(series):\n",
    "    return (series - series.mean()) / series.std()\n",
    "\n",
    "z=min_max_scaling(df['SALES'])\n",
    "\n",
    "def absolute_maximum_scale(series):\n",
    "    return (series -series.min())/ (series.max()-series.min())\n",
    "\n",
    "for col in df.columns:\n",
    "    df[col] = absolute_maximum_scale(df['SALES'])\n",
    "\n",
    "df.loc[98:101]"
   ]
  },
  {
   "cell_type": "code",
   "execution_count": 171,
   "id": "c480a6e6",
   "metadata": {},
   "outputs": [
    {
     "name": "stderr",
     "output_type": "stream",
     "text": [
      "C:\\Users\\Admin\\AppData\\Local\\Temp\\ipykernel_2576\\4023119081.py:1: FutureWarning: The default value of numeric_only in DataFrameGroupBy.sum is deprecated. In a future version, numeric_only will default to False. Either specify numeric_only or select only columns which should be valid for the function.\n",
      "  df2=df.groupby('COUNTRY').sum()\n"
     ]
    },
    {
     "data": {
      "text/html": [
       "<div>\n",
       "<style scoped>\n",
       "    .dataframe tbody tr th:only-of-type {\n",
       "        vertical-align: middle;\n",
       "    }\n",
       "\n",
       "    .dataframe tbody tr th {\n",
       "        vertical-align: top;\n",
       "    }\n",
       "\n",
       "    .dataframe thead th {\n",
       "        text-align: right;\n",
       "    }\n",
       "</style>\n",
       "<table border=\"1\" class=\"dataframe\">\n",
       "  <thead>\n",
       "    <tr style=\"text-align: right;\">\n",
       "      <th></th>\n",
       "      <th>ORDERNUMBER</th>\n",
       "      <th>QUANTITYORDERED</th>\n",
       "      <th>ORDERLINENUMBER</th>\n",
       "      <th>SALES</th>\n",
       "    </tr>\n",
       "    <tr>\n",
       "      <th>COUNTRY</th>\n",
       "      <th></th>\n",
       "      <th></th>\n",
       "      <th></th>\n",
       "      <th></th>\n",
       "    </tr>\n",
       "  </thead>\n",
       "  <tbody>\n",
       "    <tr>\n",
       "      <th>USA</th>\n",
       "      <td>10297362</td>\n",
       "      <td>35659</td>\n",
       "      <td>6369</td>\n",
       "      <td>3627982.83</td>\n",
       "    </tr>\n",
       "    <tr>\n",
       "      <th>Spain</th>\n",
       "      <td>3513645</td>\n",
       "      <td>12429</td>\n",
       "      <td>2186</td>\n",
       "      <td>1215686.92</td>\n",
       "    </tr>\n",
       "    <tr>\n",
       "      <th>France</th>\n",
       "      <td>3223513</td>\n",
       "      <td>11090</td>\n",
       "      <td>2028</td>\n",
       "      <td>1110916.52</td>\n",
       "    </tr>\n",
       "    <tr>\n",
       "      <th>Australia</th>\n",
       "      <td>1898841</td>\n",
       "      <td>6246</td>\n",
       "      <td>1181</td>\n",
       "      <td>630623.10</td>\n",
       "    </tr>\n",
       "    <tr>\n",
       "      <th>UK</th>\n",
       "      <td>1476792</td>\n",
       "      <td>5013</td>\n",
       "      <td>1027</td>\n",
       "      <td>478880.46</td>\n",
       "    </tr>\n",
       "    <tr>\n",
       "      <th>Italy</th>\n",
       "      <td>1158239</td>\n",
       "      <td>3773</td>\n",
       "      <td>890</td>\n",
       "      <td>374674.31</td>\n",
       "    </tr>\n",
       "    <tr>\n",
       "      <th>Finland</th>\n",
       "      <td>944808</td>\n",
       "      <td>3192</td>\n",
       "      <td>587</td>\n",
       "      <td>329581.91</td>\n",
       "    </tr>\n",
       "    <tr>\n",
       "      <th>Norway</th>\n",
       "      <td>869325</td>\n",
       "      <td>2842</td>\n",
       "      <td>559</td>\n",
       "      <td>307463.70</td>\n",
       "    </tr>\n",
       "    <tr>\n",
       "      <th>Singapore</th>\n",
       "      <td>806424</td>\n",
       "      <td>2760</td>\n",
       "      <td>544</td>\n",
       "      <td>288488.41</td>\n",
       "    </tr>\n",
       "    <tr>\n",
       "      <th>Denmark</th>\n",
       "      <td>644467</td>\n",
       "      <td>2197</td>\n",
       "      <td>399</td>\n",
       "      <td>245637.15</td>\n",
       "    </tr>\n",
       "    <tr>\n",
       "      <th>Canada</th>\n",
       "      <td>719223</td>\n",
       "      <td>2293</td>\n",
       "      <td>415</td>\n",
       "      <td>224078.56</td>\n",
       "    </tr>\n",
       "    <tr>\n",
       "      <th>Germany</th>\n",
       "      <td>636423</td>\n",
       "      <td>2148</td>\n",
       "      <td>388</td>\n",
       "      <td>220472.09</td>\n",
       "    </tr>\n",
       "    <tr>\n",
       "      <th>Sweden</th>\n",
       "      <td>585642</td>\n",
       "      <td>2006</td>\n",
       "      <td>337</td>\n",
       "      <td>210014.21</td>\n",
       "    </tr>\n",
       "    <tr>\n",
       "      <th>Austria</th>\n",
       "      <td>564648</td>\n",
       "      <td>1974</td>\n",
       "      <td>320</td>\n",
       "      <td>202062.53</td>\n",
       "    </tr>\n",
       "    <tr>\n",
       "      <th>Japan</th>\n",
       "      <td>535018</td>\n",
       "      <td>1842</td>\n",
       "      <td>362</td>\n",
       "      <td>188167.81</td>\n",
       "    </tr>\n",
       "    <tr>\n",
       "      <th>Switzerland</th>\n",
       "      <td>318029</td>\n",
       "      <td>1078</td>\n",
       "      <td>258</td>\n",
       "      <td>117713.56</td>\n",
       "    </tr>\n",
       "    <tr>\n",
       "      <th>Belgium</th>\n",
       "      <td>339687</td>\n",
       "      <td>1074</td>\n",
       "      <td>164</td>\n",
       "      <td>108412.62</td>\n",
       "    </tr>\n",
       "    <tr>\n",
       "      <th>Philippines</th>\n",
       "      <td>264236</td>\n",
       "      <td>961</td>\n",
       "      <td>167</td>\n",
       "      <td>94015.73</td>\n",
       "    </tr>\n",
       "    <tr>\n",
       "      <th>Ireland</th>\n",
       "      <td>164059</td>\n",
       "      <td>490</td>\n",
       "      <td>73</td>\n",
       "      <td>57756.43</td>\n",
       "    </tr>\n",
       "  </tbody>\n",
       "</table>\n",
       "</div>"
      ],
      "text/plain": [
       "             ORDERNUMBER  QUANTITYORDERED  ORDERLINENUMBER       SALES\n",
       "COUNTRY                                                               \n",
       "USA             10297362            35659             6369  3627982.83\n",
       "Spain            3513645            12429             2186  1215686.92\n",
       "France           3223513            11090             2028  1110916.52\n",
       "Australia        1898841             6246             1181   630623.10\n",
       "UK               1476792             5013             1027   478880.46\n",
       "Italy            1158239             3773              890   374674.31\n",
       "Finland           944808             3192              587   329581.91\n",
       "Norway            869325             2842              559   307463.70\n",
       "Singapore         806424             2760              544   288488.41\n",
       "Denmark           644467             2197              399   245637.15\n",
       "Canada            719223             2293              415   224078.56\n",
       "Germany           636423             2148              388   220472.09\n",
       "Sweden            585642             2006              337   210014.21\n",
       "Austria           564648             1974              320   202062.53\n",
       "Japan             535018             1842              362   188167.81\n",
       "Switzerland       318029             1078              258   117713.56\n",
       "Belgium           339687             1074              164   108412.62\n",
       "Philippines       264236              961              167    94015.73\n",
       "Ireland           164059              490               73    57756.43"
      ]
     },
     "execution_count": 171,
     "metadata": {},
     "output_type": "execute_result"
    }
   ],
   "source": [
    "df2=df.groupby('COUNTRY').sum()\n",
    "df2.sort_values(by=['SALES'],ascending=False)"
   ]
  },
  {
   "cell_type": "code",
   "execution_count": 9,
   "id": "0e75f3a7",
   "metadata": {},
   "outputs": [
    {
     "data": {
      "text/html": [
       "<div>\n",
       "<style scoped>\n",
       "    .dataframe tbody tr th:only-of-type {\n",
       "        vertical-align: middle;\n",
       "    }\n",
       "\n",
       "    .dataframe tbody tr th {\n",
       "        vertical-align: top;\n",
       "    }\n",
       "\n",
       "    .dataframe thead th {\n",
       "        text-align: right;\n",
       "    }\n",
       "</style>\n",
       "<table border=\"1\" class=\"dataframe\">\n",
       "  <thead>\n",
       "    <tr style=\"text-align: right;\">\n",
       "      <th></th>\n",
       "      <th>ORDERNUMBER</th>\n",
       "      <th>QUANTITYORDERED</th>\n",
       "      <th>ORDERLINENUMBER</th>\n",
       "      <th>SALES</th>\n",
       "      <th>ORDERDATE</th>\n",
       "      <th>STATUS</th>\n",
       "      <th>DEALSIZE</th>\n",
       "    </tr>\n",
       "    <tr>\n",
       "      <th>COUNTRY</th>\n",
       "      <th></th>\n",
       "      <th></th>\n",
       "      <th></th>\n",
       "      <th></th>\n",
       "      <th></th>\n",
       "      <th></th>\n",
       "      <th></th>\n",
       "    </tr>\n",
       "  </thead>\n",
       "  <tbody>\n",
       "    <tr>\n",
       "      <th>Australia</th>\n",
       "      <td>185</td>\n",
       "      <td>185</td>\n",
       "      <td>185</td>\n",
       "      <td>185</td>\n",
       "      <td>185</td>\n",
       "      <td>185</td>\n",
       "      <td>185</td>\n",
       "    </tr>\n",
       "    <tr>\n",
       "      <th>Austria</th>\n",
       "      <td>55</td>\n",
       "      <td>55</td>\n",
       "      <td>55</td>\n",
       "      <td>55</td>\n",
       "      <td>55</td>\n",
       "      <td>55</td>\n",
       "      <td>55</td>\n",
       "    </tr>\n",
       "    <tr>\n",
       "      <th>Belgium</th>\n",
       "      <td>33</td>\n",
       "      <td>33</td>\n",
       "      <td>33</td>\n",
       "      <td>33</td>\n",
       "      <td>33</td>\n",
       "      <td>33</td>\n",
       "      <td>33</td>\n",
       "    </tr>\n",
       "    <tr>\n",
       "      <th>Canada</th>\n",
       "      <td>70</td>\n",
       "      <td>70</td>\n",
       "      <td>70</td>\n",
       "      <td>70</td>\n",
       "      <td>70</td>\n",
       "      <td>70</td>\n",
       "      <td>70</td>\n",
       "    </tr>\n",
       "    <tr>\n",
       "      <th>Denmark</th>\n",
       "      <td>63</td>\n",
       "      <td>63</td>\n",
       "      <td>63</td>\n",
       "      <td>63</td>\n",
       "      <td>63</td>\n",
       "      <td>63</td>\n",
       "      <td>63</td>\n",
       "    </tr>\n",
       "    <tr>\n",
       "      <th>Finland</th>\n",
       "      <td>92</td>\n",
       "      <td>92</td>\n",
       "      <td>92</td>\n",
       "      <td>92</td>\n",
       "      <td>92</td>\n",
       "      <td>92</td>\n",
       "      <td>92</td>\n",
       "    </tr>\n",
       "    <tr>\n",
       "      <th>France</th>\n",
       "      <td>314</td>\n",
       "      <td>314</td>\n",
       "      <td>314</td>\n",
       "      <td>314</td>\n",
       "      <td>314</td>\n",
       "      <td>314</td>\n",
       "      <td>314</td>\n",
       "    </tr>\n",
       "    <tr>\n",
       "      <th>Germany</th>\n",
       "      <td>62</td>\n",
       "      <td>62</td>\n",
       "      <td>62</td>\n",
       "      <td>62</td>\n",
       "      <td>62</td>\n",
       "      <td>62</td>\n",
       "      <td>62</td>\n",
       "    </tr>\n",
       "    <tr>\n",
       "      <th>Ireland</th>\n",
       "      <td>16</td>\n",
       "      <td>16</td>\n",
       "      <td>16</td>\n",
       "      <td>16</td>\n",
       "      <td>16</td>\n",
       "      <td>16</td>\n",
       "      <td>16</td>\n",
       "    </tr>\n",
       "    <tr>\n",
       "      <th>Italy</th>\n",
       "      <td>113</td>\n",
       "      <td>113</td>\n",
       "      <td>113</td>\n",
       "      <td>113</td>\n",
       "      <td>113</td>\n",
       "      <td>113</td>\n",
       "      <td>113</td>\n",
       "    </tr>\n",
       "    <tr>\n",
       "      <th>Japan</th>\n",
       "      <td>52</td>\n",
       "      <td>52</td>\n",
       "      <td>52</td>\n",
       "      <td>52</td>\n",
       "      <td>52</td>\n",
       "      <td>52</td>\n",
       "      <td>52</td>\n",
       "    </tr>\n",
       "    <tr>\n",
       "      <th>Norway</th>\n",
       "      <td>85</td>\n",
       "      <td>85</td>\n",
       "      <td>85</td>\n",
       "      <td>85</td>\n",
       "      <td>85</td>\n",
       "      <td>85</td>\n",
       "      <td>85</td>\n",
       "    </tr>\n",
       "    <tr>\n",
       "      <th>Philippines</th>\n",
       "      <td>26</td>\n",
       "      <td>26</td>\n",
       "      <td>26</td>\n",
       "      <td>26</td>\n",
       "      <td>26</td>\n",
       "      <td>26</td>\n",
       "      <td>26</td>\n",
       "    </tr>\n",
       "    <tr>\n",
       "      <th>Singapore</th>\n",
       "      <td>79</td>\n",
       "      <td>79</td>\n",
       "      <td>79</td>\n",
       "      <td>79</td>\n",
       "      <td>79</td>\n",
       "      <td>79</td>\n",
       "      <td>79</td>\n",
       "    </tr>\n",
       "    <tr>\n",
       "      <th>Spain</th>\n",
       "      <td>342</td>\n",
       "      <td>342</td>\n",
       "      <td>342</td>\n",
       "      <td>342</td>\n",
       "      <td>342</td>\n",
       "      <td>342</td>\n",
       "      <td>342</td>\n",
       "    </tr>\n",
       "    <tr>\n",
       "      <th>Sweden</th>\n",
       "      <td>57</td>\n",
       "      <td>57</td>\n",
       "      <td>57</td>\n",
       "      <td>57</td>\n",
       "      <td>57</td>\n",
       "      <td>57</td>\n",
       "      <td>57</td>\n",
       "    </tr>\n",
       "    <tr>\n",
       "      <th>Switzerland</th>\n",
       "      <td>31</td>\n",
       "      <td>31</td>\n",
       "      <td>31</td>\n",
       "      <td>31</td>\n",
       "      <td>31</td>\n",
       "      <td>31</td>\n",
       "      <td>31</td>\n",
       "    </tr>\n",
       "    <tr>\n",
       "      <th>UK</th>\n",
       "      <td>144</td>\n",
       "      <td>144</td>\n",
       "      <td>144</td>\n",
       "      <td>144</td>\n",
       "      <td>144</td>\n",
       "      <td>144</td>\n",
       "      <td>144</td>\n",
       "    </tr>\n",
       "    <tr>\n",
       "      <th>USA</th>\n",
       "      <td>1004</td>\n",
       "      <td>1004</td>\n",
       "      <td>1004</td>\n",
       "      <td>1004</td>\n",
       "      <td>1004</td>\n",
       "      <td>1004</td>\n",
       "      <td>1004</td>\n",
       "    </tr>\n",
       "  </tbody>\n",
       "</table>\n",
       "</div>"
      ],
      "text/plain": [
       "             ORDERNUMBER  QUANTITYORDERED  ORDERLINENUMBER  SALES  ORDERDATE  \\\n",
       "COUNTRY                                                                        \n",
       "Australia            185              185              185    185        185   \n",
       "Austria               55               55               55     55         55   \n",
       "Belgium               33               33               33     33         33   \n",
       "Canada                70               70               70     70         70   \n",
       "Denmark               63               63               63     63         63   \n",
       "Finland               92               92               92     92         92   \n",
       "France               314              314              314    314        314   \n",
       "Germany               62               62               62     62         62   \n",
       "Ireland               16               16               16     16         16   \n",
       "Italy                113              113              113    113        113   \n",
       "Japan                 52               52               52     52         52   \n",
       "Norway                85               85               85     85         85   \n",
       "Philippines           26               26               26     26         26   \n",
       "Singapore             79               79               79     79         79   \n",
       "Spain                342              342              342    342        342   \n",
       "Sweden                57               57               57     57         57   \n",
       "Switzerland           31               31               31     31         31   \n",
       "UK                   144              144              144    144        144   \n",
       "USA                 1004             1004             1004   1004       1004   \n",
       "\n",
       "             STATUS  DEALSIZE  \n",
       "COUNTRY                        \n",
       "Australia       185       185  \n",
       "Austria          55        55  \n",
       "Belgium          33        33  \n",
       "Canada           70        70  \n",
       "Denmark          63        63  \n",
       "Finland          92        92  \n",
       "France          314       314  \n",
       "Germany          62        62  \n",
       "Ireland          16        16  \n",
       "Italy           113       113  \n",
       "Japan            52        52  \n",
       "Norway           85        85  \n",
       "Philippines      26        26  \n",
       "Singapore        79        79  \n",
       "Spain           342       342  \n",
       "Sweden           57        57  \n",
       "Switzerland      31        31  \n",
       "UK              144       144  \n",
       "USA            1004      1004  "
      ]
     },
     "execution_count": 9,
     "metadata": {},
     "output_type": "execute_result"
    }
   ],
   "source": [
    "df.groupby(['COUNTRY']).count()"
   ]
  },
  {
   "cell_type": "code",
   "execution_count": 19,
   "id": "94f28713",
   "metadata": {},
   "outputs": [
    {
     "name": "stdout",
     "output_type": "stream",
     "text": [
      "Z-score của giá trị 10000 là: 3.4997736305451204\n"
     ]
    }
   ],
   "source": [
    "# Giá trị cụ thể\n",
    "value = 10000\n",
    "\n",
    "# Giá trị trung bình của biến định lượng\n",
    "mean = df['SALES'].mean()\n",
    "\n",
    "# Độ lệch chuẩn của biến định lượng\n",
    "std_deviation = df['SALES'].std()\n",
    "\n",
    "# Tính Z-score\n",
    "z_score = (value - mean) / std_deviation\n",
    "\n",
    "print(\"Z-score của giá trị\", value, \"là:\", z_score)"
   ]
  },
  {
   "cell_type": "code",
   "execution_count": 29,
   "id": "de358e74",
   "metadata": {},
   "outputs": [
    {
     "name": "stdout",
     "output_type": "stream",
     "text": [
      "Hệ số tương quan Pearson giữa X và Y là: 0.9999999999999998\n"
     ]
    }
   ],
   "source": [
    "correlation = np.corrcoef(df['STATUS'], df['ORDERLINENUMBER'])[0, 1]\n",
    "\n",
    "print(\"Hệ số tương quan Pearson giữa X và Y là:\", correlation)"
   ]
  },
  {
   "cell_type": "code",
   "execution_count": 32,
   "id": "4216941a",
   "metadata": {},
   "outputs": [
    {
     "data": {
      "text/html": [
       "<div>\n",
       "<style scoped>\n",
       "    .dataframe tbody tr th:only-of-type {\n",
       "        vertical-align: middle;\n",
       "    }\n",
       "\n",
       "    .dataframe tbody tr th {\n",
       "        vertical-align: top;\n",
       "    }\n",
       "\n",
       "    .dataframe thead th {\n",
       "        text-align: right;\n",
       "    }\n",
       "</style>\n",
       "<table border=\"1\" class=\"dataframe\">\n",
       "  <thead>\n",
       "    <tr style=\"text-align: right;\">\n",
       "      <th></th>\n",
       "      <th>df</th>\n",
       "      <th>sum_sq</th>\n",
       "      <th>mean_sq</th>\n",
       "      <th>F</th>\n",
       "      <th>PR(&gt;F)</th>\n",
       "    </tr>\n",
       "  </thead>\n",
       "  <tbody>\n",
       "    <tr>\n",
       "      <th>STATUS</th>\n",
       "      <td>1.0</td>\n",
       "      <td>5.175497e+01</td>\n",
       "      <td>5.175497e+01</td>\n",
       "      <td>2.505388e+34</td>\n",
       "      <td>0.0</td>\n",
       "    </tr>\n",
       "    <tr>\n",
       "      <th>Residual</th>\n",
       "      <td>2821.0</td>\n",
       "      <td>5.827472e-30</td>\n",
       "      <td>2.065747e-33</td>\n",
       "      <td>NaN</td>\n",
       "      <td>NaN</td>\n",
       "    </tr>\n",
       "  </tbody>\n",
       "</table>\n",
       "</div>"
      ],
      "text/plain": [
       "              df        sum_sq       mean_sq             F  PR(>F)\n",
       "STATUS       1.0  5.175497e+01  5.175497e+01  2.505388e+34     0.0\n",
       "Residual  2821.0  5.827472e-30  2.065747e-33           NaN     NaN"
      ]
     },
     "execution_count": 32,
     "metadata": {},
     "output_type": "execute_result"
    }
   ],
   "source": [
    "import statsmodels.api as sm\n",
    "from statsmodels.formula.api import ols\n",
    "# Điểm toán học kì 2 lớp 12 có phụ thuộc vào giới tính không\n",
    "model = ols('ORDERLINENUMBER ~ STATUS', data=df).fit()\n",
    "aov_table = sm.stats.anova_lm(model, typ=1)\n",
    "aov_table"
   ]
  },
  {
   "cell_type": "code",
   "execution_count": 33,
   "id": "28dbc9e0",
   "metadata": {},
   "outputs": [
    {
     "name": "stdout",
     "output_type": "stream",
     "text": [
      "          DEALSIZE  Variance  Std_Deviation\n",
      "DEALSIZE                                   \n",
      "0.000000  0.000000       NaN            NaN\n",
      "0.004339  0.004339       NaN            NaN\n",
      "0.005281  0.005281       NaN            NaN\n",
      "0.007020  0.007020       NaN            NaN\n",
      "0.011611  0.011611       NaN            NaN\n",
      "...            ...       ...            ...\n",
      "0.838523  0.838523       NaN            NaN\n",
      "0.838611  0.838611       NaN            NaN\n",
      "0.846934  0.846934       NaN            NaN\n",
      "0.886307  0.886307       NaN            NaN\n",
      "1.000000  1.000000       NaN            NaN\n",
      "\n",
      "[2763 rows x 3 columns]\n"
     ]
    }
   ],
   "source": []
  },
  {
   "cell_type": "code",
   "execution_count": 37,
   "id": "c64cff6c",
   "metadata": {},
   "outputs": [
    {
     "data": {
      "image/png": "[encoded data removed]",
      "text/plain": [
       "<Figure size 640x480 with 1 Axes>"
      ]
     },
     "metadata": {},
     "output_type": "display_data"
    }
   ],
   "source": [
    "import matplotlib.pyplot as plt\n",
    "import seaborn as sns\n",
    "import numpy as np\n",
    "sns.barplot(x='SALES',y='STATUS',hue='DEALSIZE',data=df,errorbar=None)\n",
    "plt.show()\n"
   ]
  },
  {
   "cell_type": "code",
   "execution_count": 40,
   "id": "8ab6197f",
   "metadata": {},
   "outputs": [
    {
     "name": "stdout",
     "output_type": "stream",
     "text": [
      "0       2871.00\n",
      "1       2765.90\n",
      "2       3884.34\n",
      "3       3746.70\n",
      "4       5205.27\n",
      "         ...   \n",
      "2818    2244.40\n",
      "2819    3978.51\n",
      "2820    5417.57\n",
      "2821    2116.16\n",
      "2822    3079.44\n",
      "Name: SALES, Length: 2823, dtype: float64\n",
      "Logarit của tập giá trị:\n",
      " 0       7.962416\n",
      "1       7.925121\n",
      "2       8.264708\n",
      "3       8.228631\n",
      "4       8.557427\n",
      "          ...   \n",
      "2818    7.716194\n",
      "2819    8.288663\n",
      "2820    8.597403\n",
      "2821    7.657358\n",
      "2822    8.032503\n",
      "Name: SALES, Length: 2823, dtype: float64\n"
     ]
    }
   ],
   "source": [
    "import numpy as np\n",
    "# Tính logarit cơ số e (tự nhiên) của từng giá trị trong tập dữ liệu\n",
    "log_data = np.log(df['SALES'])\n",
    "print(df['SALES'])\n",
    "print(\"Logarit của tập giá trị:\\n\", log_data)"
   ]
  },
  {
   "cell_type": "code",
   "execution_count": 6,
   "id": "6a4f6442",
   "metadata": {},
   "outputs": [
    {
     "name": "stdout",
     "output_type": "stream",
     "text": [
      "độ lệch câu 7  0.7675895261439601\n",
      "độ lệch câu 6  0.5659624607534838\n"
     ]
    }
   ],
   "source": [
    "import numpy as np\n",
    "from scipy.stats import skew\n",
    "df['sales_transform1'] = 1 / (np.log(df['SALES'])**2 + 1)\n",
    "h=df['sales_transform1']\n",
    "n=skew(h)\n",
    "print('độ lệch câu 7 ',n)\n",
    "df['sales_transform2'] = np.sqrt(df['sales_transform1'])\n",
    "p=df['sales_transform2']\n",
    "t = skew(p)\n",
    "print('độ lệch câu 6 ',t)"
   ]
  },
  {
   "cell_type": "code",
   "execution_count": 7,
   "id": "6b5d535c",
   "metadata": {},
   "outputs": [
    {
     "name": "stdout",
     "output_type": "stream",
     "text": [
      "Số dòng đặt hàng nhiều nhất là: ORDERLINENUMBER  QUANTITYORDERED\n",
      "1                43                 15\n",
      "                 32                 14\n",
      "                 34                 14\n",
      "                 24                 13\n",
      "                 26                 13\n",
      "                                    ..\n",
      "18               31                  1\n",
      "                 36                  1\n",
      "                 40                  1\n",
      "                 42                  1\n",
      "                 48                  1\n",
      "Name: QUANTITYORDERED, Length: 563, dtype: int64\n"
     ]
    }
   ],
   "source": [
    "quantity_order_counts = df.groupby('ORDERLINENUMBER')['QUANTITYORDERED'].value_counts()\n",
    "\n",
    "print(\"Số dòng đặt hàng nhiều nhất là:\",quantity_order_counts)"
   ]
  },
  {
   "cell_type": "code",
   "execution_count": 8,
   "id": "0742c491",
   "metadata": {},
   "outputs": [
    {
     "name": "stdout",
     "output_type": "stream",
     "text": [
      "sales_log :  -0.2021742362869817\n",
      "sales_sqrt :  0.47281500087876144\n",
      "sales_square :  2.915766495908139\n",
      "sales_cube :  0.25086487312083416\n"
     ]
    }
   ],
   "source": [
    "from scipy.stats import skew\n",
    "sales_log = np.log(df['SALES']).skew()\n",
    "\n",
    "sales_sqrt = np.sqrt(df['SALES']).skew()\n",
    "\n",
    "sales_square = np.square(df['SALES']).skew()\n",
    "\n",
    "sales_cube = np.cbrt(df['SALES']).skew()\n",
    "\n",
    "print('sales_log : ', sales_log)\n",
    "print('sales_sqrt : ', sales_sqrt)\n",
    "print('sales_square : ', sales_square)\n",
    "print('sales_cube : ', sales_cube)"
   ]
  },
  {
   "cell_type": "code",
   "execution_count": 3,
   "id": "fa6cdf24",
   "metadata": {},
   "outputs": [
    {
     "name": "stdout",
     "output_type": "stream",
     "text": [
      "Quốc gia ở vị trí thứ 5 về tổng doanh số là: Finland\n",
      "Tổng doanh số của quốc gia Finland là: 329581.91\n"
     ]
    }
   ],
   "source": [
    "country_sales = df.groupby('COUNTRY')['SALES'].sum().reset_index()\n",
    "\n",
    "# Sắp xếp dữ liệu theo tổng doanh số giảm dần\n",
    "sorted_country_sales = country_sales.sort_values(by='SALES', ascending=False)\n",
    "\n",
    "# Lấy quốc gia ở vị trí thứ 5\n",
    "fifth_country = sorted_country_sales.iloc[5]['COUNTRY']\n",
    "total_sales_fifth_country = sorted_country_sales.iloc[5]['SALES']\n",
    "\n",
    "print(f\"Quốc gia ở vị trí thứ 5 về tổng doanh số là: {fifth_country}\")\n",
    "print(f\"Tổng doanh số của quốc gia {fifth_country} là: {total_sales_fifth_country}\")"
   ]
  },
  {
   "cell_type": "code",
   "execution_count": 11,
   "id": "64f05d44",
   "metadata": {},
   "outputs": [
    {
     "data": {
      "text/html": [
       "<div>\n",
       "<style scoped>\n",
       "    .dataframe tbody tr th:only-of-type {\n",
       "        vertical-align: middle;\n",
       "    }\n",
       "\n",
       "    .dataframe tbody tr th {\n",
       "        vertical-align: top;\n",
       "    }\n",
       "\n",
       "    .dataframe thead th {\n",
       "        text-align: right;\n",
       "    }\n",
       "</style>\n",
       "<table border=\"1\" class=\"dataframe\">\n",
       "  <thead>\n",
       "    <tr style=\"text-align: right;\">\n",
       "      <th></th>\n",
       "      <th>QUANTITYORDERED</th>\n",
       "      <th>ORDERLINENUMBER</th>\n",
       "      <th>SALES</th>\n",
       "      <th>ORDERDATE</th>\n",
       "      <th>STATUS</th>\n",
       "      <th>COUNTRY</th>\n",
       "      <th>DEALSIZE</th>\n",
       "    </tr>\n",
       "    <tr>\n",
       "      <th>ORDERNUMBER</th>\n",
       "      <th></th>\n",
       "      <th></th>\n",
       "      <th></th>\n",
       "      <th></th>\n",
       "      <th></th>\n",
       "      <th></th>\n",
       "      <th></th>\n",
       "    </tr>\n",
       "  </thead>\n",
       "  <tbody>\n",
       "    <tr>\n",
       "      <th>10316</th>\n",
       "      <td>18</td>\n",
       "      <td>18</td>\n",
       "      <td>18</td>\n",
       "      <td>18</td>\n",
       "      <td>18</td>\n",
       "      <td>18</td>\n",
       "      <td>18</td>\n",
       "    </tr>\n",
       "    <tr>\n",
       "      <th>10106</th>\n",
       "      <td>18</td>\n",
       "      <td>18</td>\n",
       "      <td>18</td>\n",
       "      <td>18</td>\n",
       "      <td>18</td>\n",
       "      <td>18</td>\n",
       "      <td>18</td>\n",
       "    </tr>\n",
       "    <tr>\n",
       "      <th>10332</th>\n",
       "      <td>18</td>\n",
       "      <td>18</td>\n",
       "      <td>18</td>\n",
       "      <td>18</td>\n",
       "      <td>18</td>\n",
       "      <td>18</td>\n",
       "      <td>18</td>\n",
       "    </tr>\n",
       "    <tr>\n",
       "      <th>10386</th>\n",
       "      <td>18</td>\n",
       "      <td>18</td>\n",
       "      <td>18</td>\n",
       "      <td>18</td>\n",
       "      <td>18</td>\n",
       "      <td>18</td>\n",
       "      <td>18</td>\n",
       "    </tr>\n",
       "    <tr>\n",
       "      <th>10159</th>\n",
       "      <td>18</td>\n",
       "      <td>18</td>\n",
       "      <td>18</td>\n",
       "      <td>18</td>\n",
       "      <td>18</td>\n",
       "      <td>18</td>\n",
       "      <td>18</td>\n",
       "    </tr>\n",
       "    <tr>\n",
       "      <th>...</th>\n",
       "      <td>...</td>\n",
       "      <td>...</td>\n",
       "      <td>...</td>\n",
       "      <td>...</td>\n",
       "      <td>...</td>\n",
       "      <td>...</td>\n",
       "      <td>...</td>\n",
       "    </tr>\n",
       "    <tr>\n",
       "      <th>10387</th>\n",
       "      <td>1</td>\n",
       "      <td>1</td>\n",
       "      <td>1</td>\n",
       "      <td>1</td>\n",
       "      <td>1</td>\n",
       "      <td>1</td>\n",
       "      <td>1</td>\n",
       "    </tr>\n",
       "    <tr>\n",
       "      <th>10144</th>\n",
       "      <td>1</td>\n",
       "      <td>1</td>\n",
       "      <td>1</td>\n",
       "      <td>1</td>\n",
       "      <td>1</td>\n",
       "      <td>1</td>\n",
       "      <td>1</td>\n",
       "    </tr>\n",
       "    <tr>\n",
       "      <th>10118</th>\n",
       "      <td>1</td>\n",
       "      <td>1</td>\n",
       "      <td>1</td>\n",
       "      <td>1</td>\n",
       "      <td>1</td>\n",
       "      <td>1</td>\n",
       "      <td>1</td>\n",
       "    </tr>\n",
       "    <tr>\n",
       "      <th>10242</th>\n",
       "      <td>1</td>\n",
       "      <td>1</td>\n",
       "      <td>1</td>\n",
       "      <td>1</td>\n",
       "      <td>1</td>\n",
       "      <td>1</td>\n",
       "      <td>1</td>\n",
       "    </tr>\n",
       "    <tr>\n",
       "      <th>10364</th>\n",
       "      <td>1</td>\n",
       "      <td>1</td>\n",
       "      <td>1</td>\n",
       "      <td>1</td>\n",
       "      <td>1</td>\n",
       "      <td>1</td>\n",
       "      <td>1</td>\n",
       "    </tr>\n",
       "  </tbody>\n",
       "</table>\n",
       "<p>307 rows × 7 columns</p>\n",
       "</div>"
      ],
      "text/plain": [
       "             QUANTITYORDERED  ORDERLINENUMBER  SALES  ORDERDATE  STATUS  \\\n",
       "ORDERNUMBER                                                               \n",
       "10316                     18               18     18         18      18   \n",
       "10106                     18               18     18         18      18   \n",
       "10332                     18               18     18         18      18   \n",
       "10386                     18               18     18         18      18   \n",
       "10159                     18               18     18         18      18   \n",
       "...                      ...              ...    ...        ...     ...   \n",
       "10387                      1                1      1          1       1   \n",
       "10144                      1                1      1          1       1   \n",
       "10118                      1                1      1          1       1   \n",
       "10242                      1                1      1          1       1   \n",
       "10364                      1                1      1          1       1   \n",
       "\n",
       "             COUNTRY  DEALSIZE  \n",
       "ORDERNUMBER                     \n",
       "10316             18        18  \n",
       "10106             18        18  \n",
       "10332             18        18  \n",
       "10386             18        18  \n",
       "10159             18        18  \n",
       "...              ...       ...  \n",
       "10387              1         1  \n",
       "10144              1         1  \n",
       "10118              1         1  \n",
       "10242              1         1  \n",
       "10364              1         1  \n",
       "\n",
       "[307 rows x 7 columns]"
      ]
     },
     "execution_count": 11,
     "metadata": {},
     "output_type": "execute_result"
    }
   ],
   "source": [
    "result=df.groupby(['ORDERNUMBER']).count()\n",
    "result.sort_values(by='SALES',ascending=False)"
   ]
  },
  {
   "cell_type": "code",
   "execution_count": 2,
   "id": "f06f9e2a",
   "metadata": {},
   "outputs": [
    {
     "data": {
      "text/plain": [
       "(2823, 8)"
      ]
     },
     "execution_count": 2,
     "metadata": {},
     "output_type": "execute_result"
    }
   ],
   "source": [
    "df.shape"
   ]
  },
  {
   "cell_type": "code",
   "execution_count": 13,
   "id": "0cb85255",
   "metadata": {},
   "outputs": [
    {
     "name": "stdout",
     "output_type": "stream",
     "text": [
      "Mức độ nhọn: Platykurtic\n"
     ]
    }
   ],
   "source": [
    "kurtosis_value = df['SALES'].kurtosis()\n",
    "\n",
    "# Xác định mức độ nhọn dựa vào giá trị kurtosis\n",
    "if kurtosis_value < 3:\n",
    "    print(\"Mức độ nhọn: Platykurtic\")\n",
    "elif kurtosis_value == 3:\n",
    "    print(\"Mức độ nhọn: Normal\")\n",
    "else:\n",
    "    print(\"Mức độ nhọn: Leptokurtic\")\n"
   ]
  },
  {
   "cell_type": "code",
   "execution_count": 14,
   "id": "631c31d8",
   "metadata": {},
   "outputs": [
    {
     "name": "stdout",
     "output_type": "stream",
     "text": [
      "   Dealsize_Large  Dealsize_Medium  Dealsize_Small\n",
      "0               0                0               1\n",
      "1               0                0               1\n",
      "2               0                1               0\n",
      "3               0                1               0\n",
      "4               0                1               0\n"
     ]
    }
   ],
   "source": [
    "#dựa tên Country \n",
    "#số hoá thành 1-0\n",
    "y = pd.get_dummies(df.DEALSIZE, prefix='Dealsize')\n",
    "print(y.head())"
   ]
  },
  {
   "cell_type": "code",
   "execution_count": 7,
   "id": "48ed4b8f",
   "metadata": {},
   "outputs": [],
   "source": [
    "result=df.groupby(['ORDERNUMBER']).count()\n"
   ]
  },
  {
   "cell_type": "code",
   "execution_count": 6,
   "id": "9ff9d720",
   "metadata": {},
   "outputs": [
    {
     "ename": "ModuleNotFoundError",
     "evalue": "No module named 'yt_dlp'",
     "output_type": "error",
     "traceback": [
      "\u001b[1;31m---------------------------------------------------------------------------\u001b[0m",
      "\u001b[1;31mModuleNotFoundError\u001b[0m                       Traceback (most recent call last)",
      "Cell \u001b[1;32mIn[6], line 1\u001b[0m\n\u001b[1;32m----> 1\u001b[0m \u001b[38;5;28;01mimport\u001b[39;00m \u001b[38;5;21;01myt_dlp\u001b[39;00m\n\u001b[0;32m      3\u001b[0m url\u001b[38;5;241m=\u001b[39m\u001b[38;5;28minput\u001b[39m(\u001b[38;5;124m'\u001b[39m\u001b[38;5;124mEnter video URL: \u001b[39m\u001b[38;5;124m'\u001b[39m)\n\u001b[0;32m      4\u001b[0m ydl_otps\u001b[38;5;241m=\u001b[39m{}\n",
      "\u001b[1;31mModuleNotFoundError\u001b[0m: No module named 'yt_dlp'"
     ]
    }
   ],
   "source": [
    "import yt_dlp\n",
    "\n",
    "url=input('Enter video URL: ')\n",
    "ydl_otps={}\n",
    "\n",
    "with yt_dlp.YoutubeDL(ydl_otps) as ydl:\n",
    "    ydl.download([url])\n",
    "\n",
    "print('Download successfull: ')\n"
   ]
  },
  {
   "cell_type": "code",
   "execution_count": null,
   "id": "c4f45e5f",
   "metadata": {},
   "outputs": [],
   "source": []
  }
 ],
 "metadata": {
  "kernelspec": {
   "display_name": "Python 3 (ipykernel)",
   "language": "python",
   "name": "python3"
  },
  "language_info": {
   "codemirror_mode": {
    "name": "ipython",
    "version": 3
   },
   "file_extension": ".py",
   "mimetype": "text/x-python",
   "name": "python",
   "nbconvert_exporter": "python",
   "pygments_lexer": "ipython3",
   "version": "3.10.9"
  }
 },
 "nbformat": 4,
 "nbformat_minor": 5
}
