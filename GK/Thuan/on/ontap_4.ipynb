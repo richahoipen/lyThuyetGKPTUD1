{
 "cells": [
  {
   "cell_type": "code",
   "execution_count": 1,
   "metadata": {},
   "outputs": [],
   "source": [
    "'''\n",
    "Phần 4: Phân tích định lượng\n",
    "Phân tích đinh lượng lấy trọng tâm là các biến định lượng\n",
    "'''\n",
    "# Bước 1:\n",
    "import pandas as pd\n",
    "import seaborn as sns\n",
    "df = pd.read_csv('orginal_sales_data_edit.csv', encoding = 'unicode_escape', header = 0, delimiter=',')"
   ]
  },
  {
   "cell_type": "code",
   "execution_count": 2,
   "metadata": {},
   "outputs": [
    {
     "data": {
      "text/html": [
       "<div>\n",
       "<style scoped>\n",
       "    .dataframe tbody tr th:only-of-type {\n",
       "        vertical-align: middle;\n",
       "    }\n",
       "\n",
       "    .dataframe tbody tr th {\n",
       "        vertical-align: top;\n",
       "    }\n",
       "\n",
       "    .dataframe thead th {\n",
       "        text-align: right;\n",
       "    }\n",
       "</style>\n",
       "<table border=\"1\" class=\"dataframe\">\n",
       "  <thead>\n",
       "    <tr style=\"text-align: right;\">\n",
       "      <th></th>\n",
       "      <th>ï»¿ORDERNUMBER</th>\n",
       "      <th>QUANTITYORDERED</th>\n",
       "      <th>PRICEEACH</th>\n",
       "      <th>ORDERLINENUMBER</th>\n",
       "      <th>SALES</th>\n",
       "      <th>ORDERDATE</th>\n",
       "      <th>STATUS</th>\n",
       "      <th>QTR_ID</th>\n",
       "      <th>MONTH_ID</th>\n",
       "      <th>YEAR_ID</th>\n",
       "      <th>...</th>\n",
       "      <th>ADDRESSLINE2</th>\n",
       "      <th>CITY</th>\n",
       "      <th>STATE</th>\n",
       "      <th>POSTALCODE</th>\n",
       "      <th>COUNTRY</th>\n",
       "      <th>TERRITORY</th>\n",
       "      <th>CONTACTLASTNAME</th>\n",
       "      <th>CONTACTFIRSTNAME</th>\n",
       "      <th>DEALSIZE</th>\n",
       "      <th>TOTALPRICE</th>\n",
       "    </tr>\n",
       "  </thead>\n",
       "  <tbody>\n",
       "    <tr>\n",
       "      <th>0</th>\n",
       "      <td>10107</td>\n",
       "      <td>30</td>\n",
       "      <td>95.70</td>\n",
       "      <td>2</td>\n",
       "      <td>2871.00</td>\n",
       "      <td>37676</td>\n",
       "      <td>Shipped</td>\n",
       "      <td>1</td>\n",
       "      <td>2</td>\n",
       "      <td>2003</td>\n",
       "      <td>...</td>\n",
       "      <td>NaN</td>\n",
       "      <td>NYC</td>\n",
       "      <td>NY</td>\n",
       "      <td>10022</td>\n",
       "      <td>USA</td>\n",
       "      <td>NaN</td>\n",
       "      <td>Yu</td>\n",
       "      <td>Kwai</td>\n",
       "      <td>Small</td>\n",
       "      <td>2871.00</td>\n",
       "    </tr>\n",
       "    <tr>\n",
       "      <th>1</th>\n",
       "      <td>10121</td>\n",
       "      <td>34</td>\n",
       "      <td>81.35</td>\n",
       "      <td>5</td>\n",
       "      <td>2765.90</td>\n",
       "      <td>37748</td>\n",
       "      <td>Shipped</td>\n",
       "      <td>2</td>\n",
       "      <td>5</td>\n",
       "      <td>2003</td>\n",
       "      <td>...</td>\n",
       "      <td>NaN</td>\n",
       "      <td>Reims</td>\n",
       "      <td>NaN</td>\n",
       "      <td>51100</td>\n",
       "      <td>France</td>\n",
       "      <td>EMEA</td>\n",
       "      <td>Henriot</td>\n",
       "      <td>Paul</td>\n",
       "      <td>Small</td>\n",
       "      <td>2765.90</td>\n",
       "    </tr>\n",
       "    <tr>\n",
       "      <th>2</th>\n",
       "      <td>10134</td>\n",
       "      <td>41</td>\n",
       "      <td>94.74</td>\n",
       "      <td>2</td>\n",
       "      <td>3884.34</td>\n",
       "      <td>37803</td>\n",
       "      <td>Shipped</td>\n",
       "      <td>3</td>\n",
       "      <td>7</td>\n",
       "      <td>2003</td>\n",
       "      <td>...</td>\n",
       "      <td>NaN</td>\n",
       "      <td>Paris</td>\n",
       "      <td>NaN</td>\n",
       "      <td>75508</td>\n",
       "      <td>France</td>\n",
       "      <td>EMEA</td>\n",
       "      <td>Da Cunha</td>\n",
       "      <td>Daniel</td>\n",
       "      <td>Medium</td>\n",
       "      <td>3884.34</td>\n",
       "    </tr>\n",
       "    <tr>\n",
       "      <th>3</th>\n",
       "      <td>10145</td>\n",
       "      <td>45</td>\n",
       "      <td>83.26</td>\n",
       "      <td>6</td>\n",
       "      <td>3746.70</td>\n",
       "      <td>37858</td>\n",
       "      <td>Shipped</td>\n",
       "      <td>3</td>\n",
       "      <td>8</td>\n",
       "      <td>2003</td>\n",
       "      <td>...</td>\n",
       "      <td>NaN</td>\n",
       "      <td>Pasadena</td>\n",
       "      <td>CA</td>\n",
       "      <td>90003</td>\n",
       "      <td>USA</td>\n",
       "      <td>NaN</td>\n",
       "      <td>Young</td>\n",
       "      <td>Julie</td>\n",
       "      <td>Medium</td>\n",
       "      <td>3746.70</td>\n",
       "    </tr>\n",
       "    <tr>\n",
       "      <th>4</th>\n",
       "      <td>10159</td>\n",
       "      <td>49</td>\n",
       "      <td>100.00</td>\n",
       "      <td>14</td>\n",
       "      <td>5205.27</td>\n",
       "      <td>37904</td>\n",
       "      <td>Shipped</td>\n",
       "      <td>4</td>\n",
       "      <td>10</td>\n",
       "      <td>2003</td>\n",
       "      <td>...</td>\n",
       "      <td>NaN</td>\n",
       "      <td>San Francisco</td>\n",
       "      <td>CA</td>\n",
       "      <td>NaN</td>\n",
       "      <td>USA</td>\n",
       "      <td>NaN</td>\n",
       "      <td>Brown</td>\n",
       "      <td>Julie</td>\n",
       "      <td>Medium</td>\n",
       "      <td>4900.00</td>\n",
       "    </tr>\n",
       "    <tr>\n",
       "      <th>...</th>\n",
       "      <td>...</td>\n",
       "      <td>...</td>\n",
       "      <td>...</td>\n",
       "      <td>...</td>\n",
       "      <td>...</td>\n",
       "      <td>...</td>\n",
       "      <td>...</td>\n",
       "      <td>...</td>\n",
       "      <td>...</td>\n",
       "      <td>...</td>\n",
       "      <td>...</td>\n",
       "      <td>...</td>\n",
       "      <td>...</td>\n",
       "      <td>...</td>\n",
       "      <td>...</td>\n",
       "      <td>...</td>\n",
       "      <td>...</td>\n",
       "      <td>...</td>\n",
       "      <td>...</td>\n",
       "      <td>...</td>\n",
       "      <td>...</td>\n",
       "    </tr>\n",
       "    <tr>\n",
       "      <th>2818</th>\n",
       "      <td>10350</td>\n",
       "      <td>20</td>\n",
       "      <td>100.00</td>\n",
       "      <td>15</td>\n",
       "      <td>2244.40</td>\n",
       "      <td>38323</td>\n",
       "      <td>Shipped</td>\n",
       "      <td>4</td>\n",
       "      <td>12</td>\n",
       "      <td>2004</td>\n",
       "      <td>...</td>\n",
       "      <td>NaN</td>\n",
       "      <td>Madrid</td>\n",
       "      <td>NaN</td>\n",
       "      <td>28034</td>\n",
       "      <td>Spain</td>\n",
       "      <td>EMEA</td>\n",
       "      <td>Freyre</td>\n",
       "      <td>Diego</td>\n",
       "      <td>Small</td>\n",
       "      <td>2000.00</td>\n",
       "    </tr>\n",
       "    <tr>\n",
       "      <th>2819</th>\n",
       "      <td>10373</td>\n",
       "      <td>29</td>\n",
       "      <td>100.00</td>\n",
       "      <td>1</td>\n",
       "      <td>3978.51</td>\n",
       "      <td>38383</td>\n",
       "      <td>Shipped</td>\n",
       "      <td>1</td>\n",
       "      <td>1</td>\n",
       "      <td>2005</td>\n",
       "      <td>...</td>\n",
       "      <td>NaN</td>\n",
       "      <td>Oulu</td>\n",
       "      <td>NaN</td>\n",
       "      <td>90110</td>\n",
       "      <td>Finland</td>\n",
       "      <td>EMEA</td>\n",
       "      <td>Koskitalo</td>\n",
       "      <td>Pirkko</td>\n",
       "      <td>Medium</td>\n",
       "      <td>2900.00</td>\n",
       "    </tr>\n",
       "    <tr>\n",
       "      <th>2820</th>\n",
       "      <td>10386</td>\n",
       "      <td>43</td>\n",
       "      <td>100.00</td>\n",
       "      <td>4</td>\n",
       "      <td>5417.57</td>\n",
       "      <td>38412</td>\n",
       "      <td>Resolved</td>\n",
       "      <td>1</td>\n",
       "      <td>3</td>\n",
       "      <td>2005</td>\n",
       "      <td>...</td>\n",
       "      <td>NaN</td>\n",
       "      <td>Madrid</td>\n",
       "      <td>NaN</td>\n",
       "      <td>28034</td>\n",
       "      <td>Spain</td>\n",
       "      <td>EMEA</td>\n",
       "      <td>Freyre</td>\n",
       "      <td>Diego</td>\n",
       "      <td>Medium</td>\n",
       "      <td>4300.00</td>\n",
       "    </tr>\n",
       "    <tr>\n",
       "      <th>2821</th>\n",
       "      <td>10397</td>\n",
       "      <td>34</td>\n",
       "      <td>62.24</td>\n",
       "      <td>1</td>\n",
       "      <td>2116.16</td>\n",
       "      <td>38439</td>\n",
       "      <td>Shipped</td>\n",
       "      <td>1</td>\n",
       "      <td>3</td>\n",
       "      <td>2005</td>\n",
       "      <td>...</td>\n",
       "      <td>NaN</td>\n",
       "      <td>Toulouse</td>\n",
       "      <td>NaN</td>\n",
       "      <td>31000</td>\n",
       "      <td>France</td>\n",
       "      <td>EMEA</td>\n",
       "      <td>Roulet</td>\n",
       "      <td>Annette</td>\n",
       "      <td>Small</td>\n",
       "      <td>2116.16</td>\n",
       "    </tr>\n",
       "    <tr>\n",
       "      <th>2822</th>\n",
       "      <td>10414</td>\n",
       "      <td>47</td>\n",
       "      <td>65.52</td>\n",
       "      <td>9</td>\n",
       "      <td>3079.44</td>\n",
       "      <td>38478</td>\n",
       "      <td>On Hold</td>\n",
       "      <td>2</td>\n",
       "      <td>5</td>\n",
       "      <td>2005</td>\n",
       "      <td>...</td>\n",
       "      <td>NaN</td>\n",
       "      <td>Boston</td>\n",
       "      <td>MA</td>\n",
       "      <td>51003</td>\n",
       "      <td>USA</td>\n",
       "      <td>NaN</td>\n",
       "      <td>Yoshido</td>\n",
       "      <td>Juri</td>\n",
       "      <td>Medium</td>\n",
       "      <td>3079.44</td>\n",
       "    </tr>\n",
       "  </tbody>\n",
       "</table>\n",
       "<p>2823 rows × 28 columns</p>\n",
       "</div>"
      ],
      "text/plain": [
       "      ï»¿ORDERNUMBER  QUANTITYORDERED  PRICEEACH  ORDERLINENUMBER    SALES  \\\n",
       "0              10107               30      95.70                2  2871.00   \n",
       "1              10121               34      81.35                5  2765.90   \n",
       "2              10134               41      94.74                2  3884.34   \n",
       "3              10145               45      83.26                6  3746.70   \n",
       "4              10159               49     100.00               14  5205.27   \n",
       "...              ...              ...        ...              ...      ...   \n",
       "2818           10350               20     100.00               15  2244.40   \n",
       "2819           10373               29     100.00                1  3978.51   \n",
       "2820           10386               43     100.00                4  5417.57   \n",
       "2821           10397               34      62.24                1  2116.16   \n",
       "2822           10414               47      65.52                9  3079.44   \n",
       "\n",
       "      ORDERDATE    STATUS  QTR_ID  MONTH_ID  YEAR_ID  ... ADDRESSLINE2  \\\n",
       "0         37676   Shipped       1         2     2003  ...          NaN   \n",
       "1         37748   Shipped       2         5     2003  ...          NaN   \n",
       "2         37803   Shipped       3         7     2003  ...          NaN   \n",
       "3         37858   Shipped       3         8     2003  ...          NaN   \n",
       "4         37904   Shipped       4        10     2003  ...          NaN   \n",
       "...         ...       ...     ...       ...      ...  ...          ...   \n",
       "2818      38323   Shipped       4        12     2004  ...          NaN   \n",
       "2819      38383   Shipped       1         1     2005  ...          NaN   \n",
       "2820      38412  Resolved       1         3     2005  ...          NaN   \n",
       "2821      38439   Shipped       1         3     2005  ...          NaN   \n",
       "2822      38478   On Hold       2         5     2005  ...          NaN   \n",
       "\n",
       "               CITY STATE POSTALCODE  COUNTRY TERRITORY CONTACTLASTNAME  \\\n",
       "0               NYC    NY      10022      USA       NaN              Yu   \n",
       "1             Reims   NaN      51100   France      EMEA         Henriot   \n",
       "2             Paris   NaN      75508   France      EMEA        Da Cunha   \n",
       "3          Pasadena    CA      90003      USA       NaN           Young   \n",
       "4     San Francisco    CA        NaN      USA       NaN           Brown   \n",
       "...             ...   ...        ...      ...       ...             ...   \n",
       "2818         Madrid   NaN      28034    Spain      EMEA          Freyre   \n",
       "2819           Oulu   NaN      90110  Finland      EMEA       Koskitalo   \n",
       "2820         Madrid   NaN      28034    Spain      EMEA          Freyre   \n",
       "2821       Toulouse   NaN      31000   France      EMEA          Roulet   \n",
       "2822         Boston    MA      51003      USA       NaN         Yoshido   \n",
       "\n",
       "     CONTACTFIRSTNAME DEALSIZE TOTALPRICE  \n",
       "0                Kwai    Small    2871.00  \n",
       "1                Paul    Small    2765.90  \n",
       "2              Daniel   Medium    3884.34  \n",
       "3               Julie   Medium    3746.70  \n",
       "4               Julie   Medium    4900.00  \n",
       "...               ...      ...        ...  \n",
       "2818            Diego    Small    2000.00  \n",
       "2819           Pirkko   Medium    2900.00  \n",
       "2820            Diego   Medium    4300.00  \n",
       "2821          Annette    Small    2116.16  \n",
       "2822             Juri   Medium    3079.44  \n",
       "\n",
       "[2823 rows x 28 columns]"
      ]
     },
     "execution_count": 2,
     "metadata": {},
     "output_type": "execute_result"
    }
   ],
   "source": [
    "#tính tổng giá thành\n",
    "df['TOTALPRICE'] = df['QUANTITYORDERED'] * df['PRICEEACH']\n",
    "df"
   ]
  },
  {
   "cell_type": "code",
   "execution_count": 3,
   "metadata": {},
   "outputs": [
    {
     "data": {
      "text/html": [
       "<div>\n",
       "<style scoped>\n",
       "    .dataframe tbody tr th:only-of-type {\n",
       "        vertical-align: middle;\n",
       "    }\n",
       "\n",
       "    .dataframe tbody tr th {\n",
       "        vertical-align: top;\n",
       "    }\n",
       "\n",
       "    .dataframe thead th {\n",
       "        text-align: right;\n",
       "    }\n",
       "</style>\n",
       "<table border=\"1\" class=\"dataframe\">\n",
       "  <thead>\n",
       "    <tr style=\"text-align: right;\">\n",
       "      <th></th>\n",
       "      <th>PROFIT</th>\n",
       "    </tr>\n",
       "  </thead>\n",
       "  <tbody>\n",
       "    <tr>\n",
       "      <th>0</th>\n",
       "      <td>0.000000e+00</td>\n",
       "    </tr>\n",
       "    <tr>\n",
       "      <th>1</th>\n",
       "      <td>4.547474e-13</td>\n",
       "    </tr>\n",
       "    <tr>\n",
       "      <th>2</th>\n",
       "      <td>4.547474e-13</td>\n",
       "    </tr>\n",
       "    <tr>\n",
       "      <th>3</th>\n",
       "      <td>-4.547474e-13</td>\n",
       "    </tr>\n",
       "    <tr>\n",
       "      <th>4</th>\n",
       "      <td>3.052700e+02</td>\n",
       "    </tr>\n",
       "    <tr>\n",
       "      <th>...</th>\n",
       "      <td>...</td>\n",
       "    </tr>\n",
       "    <tr>\n",
       "      <th>2818</th>\n",
       "      <td>2.444000e+02</td>\n",
       "    </tr>\n",
       "    <tr>\n",
       "      <th>2819</th>\n",
       "      <td>1.078510e+03</td>\n",
       "    </tr>\n",
       "    <tr>\n",
       "      <th>2820</th>\n",
       "      <td>1.117570e+03</td>\n",
       "    </tr>\n",
       "    <tr>\n",
       "      <th>2821</th>\n",
       "      <td>0.000000e+00</td>\n",
       "    </tr>\n",
       "    <tr>\n",
       "      <th>2822</th>\n",
       "      <td>4.547474e-13</td>\n",
       "    </tr>\n",
       "  </tbody>\n",
       "</table>\n",
       "<p>2823 rows × 1 columns</p>\n",
       "</div>"
      ],
      "text/plain": [
       "            PROFIT\n",
       "0     0.000000e+00\n",
       "1     4.547474e-13\n",
       "2     4.547474e-13\n",
       "3    -4.547474e-13\n",
       "4     3.052700e+02\n",
       "...            ...\n",
       "2818  2.444000e+02\n",
       "2819  1.078510e+03\n",
       "2820  1.117570e+03\n",
       "2821  0.000000e+00\n",
       "2822  4.547474e-13\n",
       "\n",
       "[2823 rows x 1 columns]"
      ]
     },
     "execution_count": 3,
     "metadata": {},
     "output_type": "execute_result"
    }
   ],
   "source": [
    "# tính lợi nhuận\n",
    "df['PROFIT'] = df['SALES'] - df['TOTALPRICE']\n",
    "df[['PROFIT']]"
   ]
  },
  {
   "cell_type": "code",
   "execution_count": 4,
   "metadata": {},
   "outputs": [],
   "source": [
    "df.rename(columns={'ï»¿ORDERNUMBER':'ORDERNUMBER'}, inplace=True)"
   ]
  },
  {
   "cell_type": "code",
   "execution_count": 5,
   "metadata": {},
   "outputs": [
    {
     "data": {
      "text/plain": [
       "count     2823.000000\n",
       "mean      3553.889072\n",
       "std       1841.865106\n",
       "min        482.130000\n",
       "25%       2203.430000\n",
       "50%       3184.800000\n",
       "75%       4508.000000\n",
       "max      14082.800000\n",
       "Name: SALES, dtype: float64"
      ]
     },
     "execution_count": 5,
     "metadata": {},
     "output_type": "execute_result"
    }
   ],
   "source": [
    "\n",
    "df['SALES'].describe()\n",
    "# Giá trị trung bình là giá trị đại  biểu cho 1 tập dlieu số, nó còn thể hiện giá trị kì vọng cho 1 tập dlieu"
   ]
  },
  {
   "cell_type": "code",
   "execution_count": 6,
   "metadata": {},
   "outputs": [
    {
     "data": {
      "text/plain": [
       "'\\n- Độ lệch chuẩn bằng căng bậc 2 của giá trị phương sai. Dlc và psai thể hiện mức độ biến thiên, biến động, \\nsự đa dạng của tập dlieu số. Dlc càng cao thì tập dlieu càng biến động mạnh, ngược lại ... \\n- Tứ phân vị:\\n--------|-----------|-----------|-----------\\n        Q1          Q2          Q3\\n       (25%)       (50%)       (75%) \\n                   Median\\n                 ( trung vị)\\n        <---------------------->\\n                  I Q R\\n25%: Q1 có 25% học sinh nhỏ hơn\\n50%: Q2 ( trung vị median ) cho biết 50% giá trị nhỏ hơn và 50% có giá trị lớn hơn\\n75%: Q3 có 25% giá trị lớn hơn\\nIQR: 25% -> 75%: thể hiện mức bình thường\\nvd: độ dài [2.5 , 4.75] = 2.25\\n'"
      ]
     },
     "execution_count": 6,
     "metadata": {},
     "output_type": "execute_result"
    }
   ],
   "source": [
    "# Giải thích ý nghĩa các đại lượng\n",
    "'''\n",
    "- Độ lệch chuẩn bằng căng bậc 2 của giá trị phương sai. Dlc và psai thể hiện mức độ biến thiên, biến động, \n",
    "sự đa dạng của tập dlieu số. Dlc càng cao thì tập dlieu càng biến động mạnh, ngược lại ... \n",
    "- Tứ phân vị:\n",
    "--------|-----------|-----------|-----------\n",
    "        Q1          Q2          Q3\n",
    "       (25%)       (50%)       (75%) \n",
    "                   Median\n",
    "                 ( trung vị)\n",
    "        <---------------------->\n",
    "                  I Q R\n",
    "25%: Q1 có 25% học sinh nhỏ hơn\n",
    "50%: Q2 ( trung vị median ) cho biết 50% giá trị nhỏ hơn và 50% có giá trị lớn hơn\n",
    "75%: Q3 có 25% giá trị lớn hơn\n",
    "IQR: 25% -> 75%: thể hiện mức bình thường\n",
    "vd: độ dài [2.5 , 4.75] = 2.25\n",
    "'''"
   ]
  },
  {
   "cell_type": "code",
   "execution_count": 7,
   "metadata": {},
   "outputs": [],
   "source": [
    "#2.1.1.1 Mô tả dữ liệu của QUANTITYORDERED theo DEALSIZE\n",
    "''' \n",
    "    So sánh mức độ ổn định\n",
    "        df.groupby(['DEALSIZE'])['QUANTITYORDERED].describe()\n",
    "        nếu:    - std lệch ích thì dùng std so sánh( std càng thấp mức độ ổn định của dữ liệu đó càng cao)\n",
    "                - nếu std lệch nhiều thì tính CV = std/ mean\n",
    "        \n",
    "'''\n",
    "df_std=df.groupby(['DEALSIZE'])['QUANTITYORDERED'].std()\n",
    "df_mean = df.groupby(['DEALSIZE'])['QUANTITYORDERED'].mean()"
   ]
  },
  {
   "cell_type": "code",
   "execution_count": 8,
   "metadata": {},
   "outputs": [
    {
     "data": {
      "text/plain": [
       "DEALSIZE\n",
       "Large     0.213500\n",
       "Medium    0.222496\n",
       "Small     0.277971\n",
       "Name: QUANTITYORDERED, dtype: float64"
      ]
     },
     "execution_count": 8,
     "metadata": {},
     "output_type": "execute_result"
    }
   ],
   "source": [
    "#tính cv (Khi giá trị hệ số biến thiên càng cao, sự biến động trong dữ liệu càng lớn và ngược lại.)\n",
    "cv = df_std / df_mean # cv = std / mean\n",
    "cv\n",
    "#Kích thước 'Large' có số lượng sản phẩm ổn định nhất trong 3 kích thước "
   ]
  },
  {
   "cell_type": "code",
   "execution_count": 9,
   "metadata": {},
   "outputs": [],
   "source": [
    "# mô tả dữ liệu của DOANHSO theo YEAR_ID\n",
    "df['DOANHSO'] = df['QUANTITYORDERED'] * df['SALES']"
   ]
  },
  {
   "cell_type": "code",
   "execution_count": 10,
   "metadata": {},
   "outputs": [
    {
     "data": {
      "text/html": [
       "<div>\n",
       "<style scoped>\n",
       "    .dataframe tbody tr th:only-of-type {\n",
       "        vertical-align: middle;\n",
       "    }\n",
       "\n",
       "    .dataframe tbody tr th {\n",
       "        vertical-align: top;\n",
       "    }\n",
       "\n",
       "    .dataframe thead th {\n",
       "        text-align: right;\n",
       "    }\n",
       "</style>\n",
       "<table border=\"1\" class=\"dataframe\">\n",
       "  <thead>\n",
       "    <tr style=\"text-align: right;\">\n",
       "      <th></th>\n",
       "      <th>count</th>\n",
       "      <th>mean</th>\n",
       "      <th>std</th>\n",
       "      <th>min</th>\n",
       "      <th>25%</th>\n",
       "      <th>50%</th>\n",
       "      <th>75%</th>\n",
       "      <th>max</th>\n",
       "    </tr>\n",
       "    <tr>\n",
       "      <th>YEAR_ID</th>\n",
       "      <th></th>\n",
       "      <th></th>\n",
       "      <th></th>\n",
       "      <th></th>\n",
       "      <th></th>\n",
       "      <th></th>\n",
       "      <th></th>\n",
       "      <th></th>\n",
       "    </tr>\n",
       "  </thead>\n",
       "  <tbody>\n",
       "    <tr>\n",
       "      <th>2003</th>\n",
       "      <td>1000.0</td>\n",
       "      <td>130038.630980</td>\n",
       "      <td>88205.576729</td>\n",
       "      <td>14204.00</td>\n",
       "      <td>62147.6325</td>\n",
       "      <td>105608.32</td>\n",
       "      <td>170672.5050</td>\n",
       "      <td>518843.2</td>\n",
       "    </tr>\n",
       "    <tr>\n",
       "      <th>2004</th>\n",
       "      <td>1345.0</td>\n",
       "      <td>130567.233011</td>\n",
       "      <td>89522.502950</td>\n",
       "      <td>11552.00</td>\n",
       "      <td>63698.0400</td>\n",
       "      <td>105374.88</td>\n",
       "      <td>173664.3300</td>\n",
       "      <td>626825.0</td>\n",
       "    </tr>\n",
       "    <tr>\n",
       "      <th>2005</th>\n",
       "      <td>478.0</td>\n",
       "      <td>155527.652448</td>\n",
       "      <td>138918.164612</td>\n",
       "      <td>3246.84</td>\n",
       "      <td>66147.5575</td>\n",
       "      <td>115183.05</td>\n",
       "      <td>199593.8225</td>\n",
       "      <td>1070292.8</td>\n",
       "    </tr>\n",
       "  </tbody>\n",
       "</table>\n",
       "</div>"
      ],
      "text/plain": [
       "          count           mean            std       min         25%  \\\n",
       "YEAR_ID                                                               \n",
       "2003     1000.0  130038.630980   88205.576729  14204.00  62147.6325   \n",
       "2004     1345.0  130567.233011   89522.502950  11552.00  63698.0400   \n",
       "2005      478.0  155527.652448  138918.164612   3246.84  66147.5575   \n",
       "\n",
       "               50%          75%        max  \n",
       "YEAR_ID                                     \n",
       "2003     105608.32  170672.5050   518843.2  \n",
       "2004     105374.88  173664.3300   626825.0  \n",
       "2005     115183.05  199593.8225  1070292.8  "
      ]
     },
     "execution_count": 10,
     "metadata": {},
     "output_type": "execute_result"
    }
   ],
   "source": [
    "df.groupby(['YEAR_ID'])['DOANHSO'].describe() # std lệch nhiều nên Tính CV"
   ]
  },
  {
   "cell_type": "code",
   "execution_count": 11,
   "metadata": {},
   "outputs": [
    {
     "data": {
      "text/plain": [
       "YEAR_ID\n",
       "2003    0.678303\n",
       "2004    0.685643\n",
       "2005    0.893206\n",
       "Name: DOANHSO, dtype: float64"
      ]
     },
     "execution_count": 11,
     "metadata": {},
     "output_type": "execute_result"
    }
   ],
   "source": [
    "cv = (df.groupby(['YEAR_ID'])['DOANHSO'].std()) / (df.groupby(['YEAR_ID'])['DOANHSO'].mean())\n",
    "cv\n",
    "# năm 2003 có Doanh số ổn định nhất trong các năm "
   ]
  },
  {
   "cell_type": "code",
   "execution_count": 12,
   "metadata": {},
   "outputs": [
    {
     "data": {
      "image/png": "[encoded data removed]",
      "text/plain": [
       "<Figure size 640x480 with 1 Axes>"
      ]
     },
     "metadata": {},
     "output_type": "display_data"
    }
   ],
   "source": [
    "'''\n",
    "Histogram cho biết xác suất xảy ra của biến cố trong khoảng giá trị dữ liệu nào nhiều nhất\n",
    "'''\n",
    "import matplotlib.pyplot as plt\n",
    "df['DOANHSO'].hist()\n",
    "plt.show()"
   ]
  },
  {
   "cell_type": "code",
   "execution_count": 13,
   "metadata": {},
   "outputs": [
    {
     "data": {
      "image/png": "[encoded data removed]",
      "text/plain": [
       "<Figure size 640x480 with 1 Axes>"
      ]
     },
     "metadata": {},
     "output_type": "display_data"
    }
   ],
   "source": [
    "# Hướng dẫn về bins trong histogram \n",
    "# Lưu ý: khi số lượng bins khác nhau sẽ dẫn đến hình dáng của histogram khác nhau\n",
    "df['SALES'].hist()\n",
    "plt.show()"
   ]
  },
  {
   "cell_type": "code",
   "execution_count": 14,
   "metadata": {},
   "outputs": [
    {
     "data": {
      "image/png": "[encoded data removed]",
      "text/plain": [
       "<Figure size 500x500 with 1 Axes>"
      ]
     },
     "metadata": {},
     "output_type": "display_data"
    }
   ],
   "source": [
    "'''\n",
    "Nâng cao hơn histogram, thì ta khám phá dạng phân phối xác xuất làm mịn với phân phối xác xuất\n",
    "'''\n",
    "sns.displot(df, x='SALES', kind='kde')\n",
    "plt.show()\n",
    "# Không phải phân phối chuẩn"
   ]
  },
  {
   "cell_type": "code",
   "execution_count": 15,
   "metadata": {},
   "outputs": [
    {
     "data": {
      "image/png": "[encoded data removed]",
      "text/plain": [
       "<Figure size 688.625x500 with 1 Axes>"
      ]
     },
     "metadata": {},
     "output_type": "display_data"
    }
   ],
   "source": [
    "sns.displot(data = df[['QUANTITYORDERED','SALES']], kind='kde')\n",
    "plt.show()\n",
    "# Hãy cho biết phân phối của biến số nào gần với pp chuẩn hơn\n",
    "# logic vs ungxu gần với pp chuẩn hơn"
   ]
  },
  {
   "cell_type": "code",
   "execution_count": 16,
   "metadata": {},
   "outputs": [
    {
     "data": {
      "image/png": "[encoded data removed]",
      "text/plain": [
       "<Figure size 605.5x500 with 1 Axes>"
      ]
     },
     "metadata": {},
     "output_type": "display_data"
    }
   ],
   "source": [
    "sns.displot(df, x='SALES',hue='DEALSIZE', kind='kde')\n",
    "plt.show()\n",
    "# Kích thước 'LARGE' gần với phân phối chuẩn"
   ]
  },
  {
   "cell_type": "code",
   "execution_count": 17,
   "metadata": {},
   "outputs": [
    {
     "data": {
      "image/png": "[encoded data removed]",
      "text/plain": [
       "<Figure size 619.625x500 with 1 Axes>"
      ]
     },
     "metadata": {},
     "output_type": "display_data"
    }
   ],
   "source": [
    "sns.displot(df, x='SALES',hue='STATUS', kind='kde')\n",
    "plt.show()\n",
    "# Câu hỏi: "
   ]
  },
  {
   "cell_type": "code",
   "execution_count": 18,
   "metadata": {},
   "outputs": [
    {
     "data": {
      "image/png": "[encoded data removed]",
      "text/plain": [
       "<Figure size 640x480 with 1 Axes>"
      ]
     },
     "metadata": {},
     "output_type": "display_data"
    }
   ],
   "source": [
    "'''\n",
    "Đây là biểu đồ quan trọng trong việc phân bố\n",
    "Biểu đồ này cung cấo các thông tin quan trọng như:\n",
    "1. Q1: Tứ phân vị 25%\n",
    "2. Q2: Tứ phân vị 50% ( median )\n",
    "3. Q3: Tứ phân vị 75%\n",
    "4. Khoảng IQR = |Q3 - Q1|\n",
    "5. Lower bound = Q1 - 1.5*IQR\n",
    "6. Upper bound = Q3 + 1.5*IQR\n",
    "7. Các ngoại biên, bất thường ( outlier) cần xử lý trong dữ liệu Outlier: là điểm dlieu khác biệt quá nhiều so với đa\n",
    "số \n",
    "Hướng dẫn:\n",
    " + Tính khoảng nghi ngờ chứa Outliers\n",
    " + Tính khoảng chắc chắn chứa Outliers\n",
    "'''\n",
    "sns.boxplot(data=df, x =  'DEALSIZE', y='QUANTITYORDERED' )\n",
    "plt.show()"
   ]
  },
  {
   "cell_type": "code",
   "execution_count": 19,
   "metadata": {},
   "outputs": [
    {
     "data": {
      "text/html": [
       "<div>\n",
       "<style scoped>\n",
       "    .dataframe tbody tr th:only-of-type {\n",
       "        vertical-align: middle;\n",
       "    }\n",
       "\n",
       "    .dataframe tbody tr th {\n",
       "        vertical-align: top;\n",
       "    }\n",
       "\n",
       "    .dataframe thead th {\n",
       "        text-align: right;\n",
       "    }\n",
       "</style>\n",
       "<table border=\"1\" class=\"dataframe\">\n",
       "  <thead>\n",
       "    <tr style=\"text-align: right;\">\n",
       "      <th></th>\n",
       "      <th>count</th>\n",
       "      <th>mean</th>\n",
       "      <th>std</th>\n",
       "      <th>min</th>\n",
       "      <th>25%</th>\n",
       "      <th>50%</th>\n",
       "      <th>75%</th>\n",
       "      <th>max</th>\n",
       "    </tr>\n",
       "    <tr>\n",
       "      <th>DEALSIZE</th>\n",
       "      <th></th>\n",
       "      <th></th>\n",
       "      <th></th>\n",
       "      <th></th>\n",
       "      <th></th>\n",
       "      <th></th>\n",
       "      <th></th>\n",
       "      <th></th>\n",
       "    </tr>\n",
       "  </thead>\n",
       "  <tbody>\n",
       "    <tr>\n",
       "      <th>Large</th>\n",
       "      <td>157.0</td>\n",
       "      <td>47.222930</td>\n",
       "      <td>10.082098</td>\n",
       "      <td>29.0</td>\n",
       "      <td>42.0</td>\n",
       "      <td>46.0</td>\n",
       "      <td>50.0</td>\n",
       "      <td>97.0</td>\n",
       "    </tr>\n",
       "    <tr>\n",
       "      <th>Medium</th>\n",
       "      <td>1384.0</td>\n",
       "      <td>37.947254</td>\n",
       "      <td>8.443130</td>\n",
       "      <td>20.0</td>\n",
       "      <td>32.0</td>\n",
       "      <td>39.0</td>\n",
       "      <td>45.0</td>\n",
       "      <td>66.0</td>\n",
       "    </tr>\n",
       "    <tr>\n",
       "      <th>Small</th>\n",
       "      <td>1282.0</td>\n",
       "      <td>30.525741</td>\n",
       "      <td>8.485265</td>\n",
       "      <td>6.0</td>\n",
       "      <td>24.0</td>\n",
       "      <td>29.0</td>\n",
       "      <td>36.0</td>\n",
       "      <td>64.0</td>\n",
       "    </tr>\n",
       "  </tbody>\n",
       "</table>\n",
       "</div>"
      ],
      "text/plain": [
       "           count       mean        std   min   25%   50%   75%   max\n",
       "DEALSIZE                                                            \n",
       "Large      157.0  47.222930  10.082098  29.0  42.0  46.0  50.0  97.0\n",
       "Medium    1384.0  37.947254   8.443130  20.0  32.0  39.0  45.0  66.0\n",
       "Small     1282.0  30.525741   8.485265   6.0  24.0  29.0  36.0  64.0"
      ]
     },
     "execution_count": 19,
     "metadata": {},
     "output_type": "execute_result"
    }
   ],
   "source": [
    "df.groupby(['DEALSIZE'])['QUANTITYORDERED'].describe()"
   ]
  },
  {
   "cell_type": "code",
   "execution_count": 20,
   "metadata": {},
   "outputs": [
    {
     "data": {
      "text/plain": [
       "'\\nSkewness = độ xiên, độ lớn ( trị tuyệt đối ) cho biết mức độ dlieu lệch nhiều hay ít so với đường cong phân phối chuẩn.\\nCho biết xác xuất đc phân bổ lệch về phía nào nhiều\\nTrị tuyệt đối gtri càng lớn thì dlieu pphoi nghiêng càng nhiều ( lệch )\\nDiễn giải Skewness:\\n- Skewness > 0 tức là mean > median: ta hội là Positive Skewness hay lệch phải, tức là gtri\\nngoại biên ( outliers ) nhận gtri lớn sẽ đẩy gtri tbinh về cuối\\n- Skewness < 0 tức là mean < median: ta hội là Positive Skewness hay lệch trái, tức là gtri\\nngoại biên ( outliers ) nhận gtri nhỏ sẽ đẩy gtri tbinh về đầu\\n- Skewness = 0 tức là mean = median = mode: Phân phối k lệch còn đgl pphoi đối xứng \\n'"
      ]
     },
     "execution_count": 20,
     "metadata": {},
     "output_type": "execute_result"
    }
   ],
   "source": [
    "'''\n",
    "Skewness = độ xiên, độ lớn ( trị tuyệt đối ) cho biết mức độ dlieu lệch nhiều hay ít so với đường cong phân phối chuẩn.\n",
    "Cho biết xác xuất đc phân bổ lệch về phía nào nhiều\n",
    "Trị tuyệt đối gtri càng lớn thì dlieu pphoi nghiêng càng nhiều ( lệch )\n",
    "Diễn giải Skewness:\n",
    "- Skewness > 0 tức là mean > median: ta hội là Positive Skewness hay lệch phải, tức là gtri\n",
    "ngoại biên ( outliers ) nhận gtri lớn sẽ đẩy gtri tbinh về cuối\n",
    "- Skewness < 0 tức là mean < median: ta hội là Positive Skewness hay lệch trái, tức là gtri\n",
    "ngoại biên ( outliers ) nhận gtri nhỏ sẽ đẩy gtri tbinh về đầu\n",
    "- Skewness = 0 tức là mean = median = mode: Phân phối k lệch còn đgl pphoi đối xứng \n",
    "'''"
   ]
  },
  {
   "cell_type": "code",
   "execution_count": 21,
   "metadata": {},
   "outputs": [
    {
     "data": {
      "text/plain": [
       "PRICEEACH         -0.946649\n",
       "QUANTITYORDERED    0.362585\n",
       "dtype: float64"
      ]
     },
     "execution_count": 21,
     "metadata": {},
     "output_type": "execute_result"
    }
   ],
   "source": [
    "df[['PRICEEACH','QUANTITYORDERED']].skew()\n",
    "# Với giá trị PRICEEACH = -0.946 (mean < median) bị lệch về trái=> giá tị ngoại biên nếu nhận giá trị lớn sẽ đẩy giá trị trung bình về đầu\n",
    "#với giá tị QUANTITYPRDERED = 0.362 > 0 (mean > median) bịc lệch về phải=> giá trị ngoại biên nếu nhận giá tị lớn sẽ đẩy giá trị trung bình về cuối \n"
   ]
  },
  {
   "cell_type": "code",
   "execution_count": 22,
   "metadata": {},
   "outputs": [
    {
     "data": {
      "text/html": [
       "<div>\n",
       "<style scoped>\n",
       "    .dataframe tbody tr th:only-of-type {\n",
       "        vertical-align: middle;\n",
       "    }\n",
       "\n",
       "    .dataframe tbody tr th {\n",
       "        vertical-align: top;\n",
       "    }\n",
       "\n",
       "    .dataframe thead th {\n",
       "        text-align: right;\n",
       "    }\n",
       "</style>\n",
       "<table border=\"1\" class=\"dataframe\">\n",
       "  <thead>\n",
       "    <tr style=\"text-align: right;\">\n",
       "      <th></th>\n",
       "      <th>PRICEEACH</th>\n",
       "      <th>QUANTITYORDERED</th>\n",
       "    </tr>\n",
       "    <tr>\n",
       "      <th>DEALSIZE</th>\n",
       "      <th></th>\n",
       "      <th></th>\n",
       "    </tr>\n",
       "  </thead>\n",
       "  <tbody>\n",
       "    <tr>\n",
       "      <th>Large</th>\n",
       "      <td>-6.797695</td>\n",
       "      <td>1.799082</td>\n",
       "    </tr>\n",
       "    <tr>\n",
       "      <th>Medium</th>\n",
       "      <td>-1.952550</td>\n",
       "      <td>-0.167506</td>\n",
       "    </tr>\n",
       "    <tr>\n",
       "      <th>Small</th>\n",
       "      <td>0.051631</td>\n",
       "      <td>0.579202</td>\n",
       "    </tr>\n",
       "  </tbody>\n",
       "</table>\n",
       "</div>"
      ],
      "text/plain": [
       "          PRICEEACH  QUANTITYORDERED\n",
       "DEALSIZE                            \n",
       "Large     -6.797695         1.799082\n",
       "Medium    -1.952550        -0.167506\n",
       "Small      0.051631         0.579202"
      ]
     },
     "execution_count": 22,
     "metadata": {},
     "output_type": "execute_result"
    }
   ],
   "source": [
    "df.groupby('DEALSIZE')[['PRICEEACH','QUANTITYORDERED']].skew()"
   ]
  },
  {
   "cell_type": "code",
   "execution_count": 23,
   "metadata": {},
   "outputs": [
    {
     "data": {
      "text/plain": [
       "\"\\nKurtosis: độ nhọn, trị tuyệt đối cho biết mức độ nhọn của phân phối\\n\\nĐộ lớn của kurtosis: \\n+ Càng gần 3 thì fit\\n+ Dưới 3 thì fat\\n+ Trên 3 thì thin\\n\\nThông thường để đánh giá hình dáng độ nhọn ta dùng đại lượng \\nexcess kurtosis = kurtosis - 3\\n+ Nếu excess > 0 thì thin\\n+ Nếu excess = 0 thì fit\\n+ Nếu excess < 0 thì fat\\n\\nTrong pandass sử dụng Fisher's kurtosis tức là đã \\nchuẩn hóa gtri về excess kurtosis theo mean = 0\\n\\nCâu hỏi: biến NGONNGU có độ nhọn như thế nào ?\\nTrả lời: fat\\n\\nTrị tuyệt đối excess kurtosis càng cao thì mức độ thin, fat càng lớn\\n\\nLưu ý: Với pphoi chuẩn thì excess kurtosis = 0 và skewness = 0\\n\""
      ]
     },
     "execution_count": 23,
     "metadata": {},
     "output_type": "execute_result"
    }
   ],
   "source": [
    "'''\n",
    "Kurtosis: độ nhọn, trị tuyệt đối cho biết mức độ nhọn của phân phối\n",
    "\n",
    "Độ lớn của kurtosis: \n",
    "+ Càng gần 3 thì fit\n",
    "+ Dưới 3 thì fat\n",
    "+ Trên 3 thì thin\n",
    "\n",
    "Thông thường để đánh giá hình dáng độ nhọn ta dùng đại lượng \n",
    "excess kurtosis = kurtosis - 3\n",
    "+ Nếu excess > 0 thì thin\n",
    "+ Nếu excess = 0 thì fit\n",
    "+ Nếu excess < 0 thì fat\n",
    "\n",
    "Trong pandass sử dụng Fisher's kurtosis tức là đã \n",
    "chuẩn hóa gtri về excess kurtosis theo mean = 0\n",
    "\n",
    "Câu hỏi: biến NGONNGU có độ nhọn như thế nào ?\n",
    "Trả lời: fat\n",
    "\n",
    "Trị tuyệt đối excess kurtosis càng cao thì mức độ thin, fat càng lớn\n",
    "\n",
    "Lưu ý: Với pphoi chuẩn thì excess kurtosis = 0 và skewness = 0\n",
    "'''"
   ]
  },
  {
   "cell_type": "code",
   "execution_count": 24,
   "metadata": {},
   "outputs": [
    {
     "data": {
      "text/plain": [
       "PRICEEACH         -0.374818\n",
       "QUANTITYORDERED    0.415744\n",
       "dtype: float64"
      ]
     },
     "execution_count": 24,
     "metadata": {},
     "output_type": "execute_result"
    }
   ],
   "source": [
    "df[['PRICEEACH','QUANTITYORDERED']].kurtosis()\n",
    "# với krutosis của PRICEEACH =   -0.374818 thì độ nhọn của phân phối là: FAT\n",
    "# với krutosis của QUANTITYORDERED =  0.415744 thì độ nhọn của phân phối là: THIN\n"
   ]
  },
  {
   "cell_type": "code",
   "execution_count": 25,
   "metadata": {},
   "outputs": [
    {
     "data": {
      "text/html": [
       "<div>\n",
       "<style scoped>\n",
       "    .dataframe tbody tr th:only-of-type {\n",
       "        vertical-align: middle;\n",
       "    }\n",
       "\n",
       "    .dataframe tbody tr th {\n",
       "        vertical-align: top;\n",
       "    }\n",
       "\n",
       "    .dataframe thead th {\n",
       "        text-align: right;\n",
       "    }\n",
       "</style>\n",
       "<table border=\"1\" class=\"dataframe\">\n",
       "  <thead>\n",
       "    <tr style=\"text-align: right;\">\n",
       "      <th></th>\n",
       "      <th>PRICEEACH</th>\n",
       "      <th>QUANTITYORDERED</th>\n",
       "    </tr>\n",
       "  </thead>\n",
       "  <tbody>\n",
       "    <tr>\n",
       "      <th>PRICEEACH</th>\n",
       "      <td>407.001433</td>\n",
       "      <td>1.093480</td>\n",
       "    </tr>\n",
       "    <tr>\n",
       "      <th>QUANTITYORDERED</th>\n",
       "      <td>1.093480</td>\n",
       "      <td>94.895707</td>\n",
       "    </tr>\n",
       "  </tbody>\n",
       "</table>\n",
       "</div>"
      ],
      "text/plain": [
       "                  PRICEEACH  QUANTITYORDERED\n",
       "PRICEEACH        407.001433         1.093480\n",
       "QUANTITYORDERED    1.093480        94.895707"
      ]
     },
     "execution_count": 25,
     "metadata": {},
     "output_type": "execute_result"
    }
   ],
   "source": [
    "'''\n",
    "Phân tích tác động( ảnh hương ) qua lại giữa 2 biến định lượng\n",
    "'''\n",
    "'''\n",
    "pp1: Hiệp phương sai: co-variance\n",
    "Giá trị co-variance > 0 thì 2 biến có tương quan thuận ( đồng biến )\n",
    "Giá trị co-variance < 0 thì 2 biến có tương quan nghịch ( nghịch biến )\n",
    "Độ lớn ( trị tuyệt đối của giá trị ) càng lớn thì mức độ quan hệ ( tương quan ) càng chặt chẽ\n",
    "\n",
    "Ma trận hiệp phương sai: co-variance matrix\n",
    "'''\n",
    "\n",
    "df[['PRICEEACH','QUANTITYORDERED']].cov()\n",
    "# PRIEACH và QUANTITYORDERED là hai biến có tương quan đồng thuận"
   ]
  },
  {
   "cell_type": "code",
   "execution_count": 26,
   "metadata": {},
   "outputs": [
    {
     "data": {
      "text/html": [
       "<div>\n",
       "<style scoped>\n",
       "    .dataframe tbody tr th:only-of-type {\n",
       "        vertical-align: middle;\n",
       "    }\n",
       "\n",
       "    .dataframe tbody tr th {\n",
       "        vertical-align: top;\n",
       "    }\n",
       "\n",
       "    .dataframe thead th {\n",
       "        text-align: right;\n",
       "    }\n",
       "</style>\n",
       "<table border=\"1\" class=\"dataframe\">\n",
       "  <thead>\n",
       "    <tr style=\"text-align: right;\">\n",
       "      <th></th>\n",
       "      <th>PRICEEACH</th>\n",
       "      <th>SALES</th>\n",
       "      <th>QUANTITYORDERED</th>\n",
       "    </tr>\n",
       "  </thead>\n",
       "  <tbody>\n",
       "    <tr>\n",
       "      <th>PRICEEACH</th>\n",
       "      <td>407.001433</td>\n",
       "      <td>2.444425e+04</td>\n",
       "      <td>1.093480</td>\n",
       "    </tr>\n",
       "    <tr>\n",
       "      <th>SALES</th>\n",
       "      <td>24444.247916</td>\n",
       "      <td>3.392467e+06</td>\n",
       "      <td>9893.922241</td>\n",
       "    </tr>\n",
       "    <tr>\n",
       "      <th>QUANTITYORDERED</th>\n",
       "      <td>1.093480</td>\n",
       "      <td>9.893922e+03</td>\n",
       "      <td>94.895707</td>\n",
       "    </tr>\n",
       "  </tbody>\n",
       "</table>\n",
       "</div>"
      ],
      "text/plain": [
       "                    PRICEEACH         SALES  QUANTITYORDERED\n",
       "PRICEEACH          407.001433  2.444425e+04         1.093480\n",
       "SALES            24444.247916  3.392467e+06      9893.922241\n",
       "QUANTITYORDERED      1.093480  9.893922e+03        94.895707"
      ]
     },
     "execution_count": 26,
     "metadata": {},
     "output_type": "execute_result"
    }
   ],
   "source": [
    "df[['PRICEEACH','SALES','QUANTITYORDERED']].cov()"
   ]
  },
  {
   "cell_type": "code",
   "execution_count": 27,
   "metadata": {},
   "outputs": [],
   "source": [
    "#QUANTITYORDERED  có tác động đến SALES mạnh hơn PRICEEACH\n"
   ]
  },
  {
   "cell_type": "code",
   "execution_count": 28,
   "metadata": {},
   "outputs": [
    {
     "data": {
      "text/html": [
       "<div>\n",
       "<style scoped>\n",
       "    .dataframe tbody tr th:only-of-type {\n",
       "        vertical-align: middle;\n",
       "    }\n",
       "\n",
       "    .dataframe tbody tr th {\n",
       "        vertical-align: top;\n",
       "    }\n",
       "\n",
       "    .dataframe thead th {\n",
       "        text-align: right;\n",
       "    }\n",
       "</style>\n",
       "<table border=\"1\" class=\"dataframe\">\n",
       "  <thead>\n",
       "    <tr style=\"text-align: right;\">\n",
       "      <th></th>\n",
       "      <th>PRICEEACH</th>\n",
       "      <th>SALES</th>\n",
       "    </tr>\n",
       "  </thead>\n",
       "  <tbody>\n",
       "    <tr>\n",
       "      <th>PRICEEACH</th>\n",
       "      <td>1.000000</td>\n",
       "      <td>0.657841</td>\n",
       "    </tr>\n",
       "    <tr>\n",
       "      <th>SALES</th>\n",
       "      <td>0.657841</td>\n",
       "      <td>1.000000</td>\n",
       "    </tr>\n",
       "  </tbody>\n",
       "</table>\n",
       "</div>"
      ],
      "text/plain": [
       "           PRICEEACH     SALES\n",
       "PRICEEACH   1.000000  0.657841\n",
       "SALES       0.657841  1.000000"
      ]
     },
     "execution_count": 28,
     "metadata": {},
     "output_type": "execute_result"
    }
   ],
   "source": [
    "'''\n",
    "Với pphap so sánh tương quan bằg co-variance thì ta khoong đo luongwf đc cường độ tường quan giữa 2 biến đluong\n",
    "\n",
    "Pearson Corelation: tương quan tuyến tính\n",
    "r nằm trong khoảng [-1,1]\n",
    "r = 0 -> không tương quan\n",
    "|r| càng gần 1 thì tương quan càng cao\n",
    "r < 0: tương quan nghịch\n",
    "|r| <0.5: tương quan thấp\n",
    "    [0.5, 0.65]: khá\n",
    "    [0.65, 0.75]: tốt\n",
    "    [0.75, 0.9]: rất tốt\n",
    "    > 0.9: hoàn hảo\n",
    "    \n",
    "Ma trânnj tương quan: correction matrix\n",
    "\n",
    "* Lưu ý: đc sử dụng khảo sát tương quan tuyến tính nhằm phân tích mối quna hệ giữa 2 biến đluong\n",
    "'''\n",
    "\n",
    "df[['PRICEEACH','SALES']].corr()\n",
    "\n",
    "# Tương quan thuận (tốt) nếu giá càng cao thì doanh số sẽ càng cao luôn"
   ]
  },
  {
   "cell_type": "code",
   "execution_count": 29,
   "metadata": {},
   "outputs": [
    {
     "data": {
      "text/plain": [
       "'\\nPhân tích suy diễn ( Inferrential Statistics)\\nLý do tại sao cần suy diễn: kết luận dựa trên dlieu sample ( mẫu ), nhưng kết luận thì đc hiểu là áp dụng cho \\ntổng thể\\nCâu hỏi đặt ra: kết luận trên mẫu đó có phù hợp với tổng hợp hay không\\n\\nKhi phân tích suy diễn cần lưu ý:\\n1. Xác định giả thuyết H0\\n2. Các giả định hay các điều kiện về dlieu và môi trường để áp dụng kiểm định\\n- Lưu ý về giả định phân phối của biến số: Normal, Student, Poison, Chi-quare...\\n3. Thiết lập mức tin cậy và sai lầm ( alpha ) 90% - 10%, 95% - 5% và 99% - 1%\\n4. Quy tắc suy diễn:\\n4.1 Nếu p-value < alpha => reject H0\\n4.2 Nếu p-value > alpha => accept H0\\n5. Kết luận của suy diễn chỉ cho chúng ta biết là có đủ dữ liệu để kết luận cho tổng thể\\nhay không ( còn gọi là ý nghĩa thống kê )\\n'"
      ]
     },
     "execution_count": 29,
     "metadata": {},
     "output_type": "execute_result"
    }
   ],
   "source": [
    "'''\n",
    "Phân tích suy diễn ( Inferrential Statistics)\n",
    "Lý do tại sao cần suy diễn: kết luận dựa trên dlieu sample ( mẫu ), nhưng kết luận thì đc hiểu là áp dụng cho \n",
    "tổng thể\n",
    "Câu hỏi đặt ra: kết luận trên mẫu đó có phù hợp với tổng hợp hay không\n",
    "\n",
    "Khi phân tích suy diễn cần lưu ý:\n",
    "1. Xác định giả thuyết H0\n",
    "2. Các giả định hay các điều kiện về dlieu và môi trường để áp dụng kiểm định\n",
    "- Lưu ý về giả định phân phối của biến số: Normal, Student, Poison, Chi-quare...\n",
    "3. Thiết lập mức tin cậy và sai lầm ( alpha ) 90% - 10%, 95% - 5% và 99% - 1%\n",
    "4. Quy tắc suy diễn:\n",
    "4.1 Nếu p-value < alpha => reject H0\n",
    "4.2 Nếu p-value > alpha => accept H0\n",
    "5. Kết luận của suy diễn chỉ cho chúng ta biết là có đủ dữ liệu để kết luận cho tổng thể\n",
    "hay không ( còn gọi là ý nghĩa thống kê )\n",
    "'''"
   ]
  },
  {
   "cell_type": "code",
   "execution_count": 30,
   "metadata": {},
   "outputs": [
    {
     "data": {
      "text/plain": [
       "24       2434.56\n",
       "104     11886.60\n",
       "108      4398.24\n",
       "113      3854.24\n",
       "123      4128.96\n",
       "          ...   \n",
       "2777     1459.92\n",
       "2787     1485.80\n",
       "2799     2079.04\n",
       "2808     1192.56\n",
       "2814     2082.85\n",
       "Name: SALES, Length: 144, dtype: float64"
      ]
     },
     "execution_count": 30,
     "metadata": {},
     "output_type": "execute_result"
    }
   ],
   "source": [
    "df_f = df.loc[df['COUNTRY'] == 'UK']\n",
    "df_f['SALES']"
   ]
  },
  {
   "cell_type": "code",
   "execution_count": 31,
   "metadata": {},
   "outputs": [
    {
     "data": {
      "text/plain": [
       "(0.5514047072186279, 0.5813562745637688)"
      ]
     },
     "execution_count": 31,
     "metadata": {},
     "output_type": "execute_result"
    }
   ],
   "source": [
    "'''\n",
    "Với one sample Z - test thì giả thuyết H0: muy = 3250\n",
    "Mặc định mức tin cậy là 95% và mức sai lầm là 5%\n",
    "'''\n",
    "from statsmodels.stats.weightstats import ztest as ztest\n",
    "ztest(df_f['SALES'], value=3250)\n"
   ]
  },
  {
   "cell_type": "code",
   "execution_count": 32,
   "metadata": {},
   "outputs": [
    {
     "data": {
      "text/plain": [
       "'\\nKết luận: \\n- Do alpha = 0.05 và p-value = 0.5813562745637688(số bên phải)... \\nsuy ra, đủ dữ liệu để nói rằng trung bình Doanh số bằng 3250\\nhay nói cách khác là chấp nhận H0 ở mức sai lầm 5%\\n'"
      ]
     },
     "execution_count": 32,
     "metadata": {},
     "output_type": "execute_result"
    }
   ],
   "source": [
    "'''\n",
    "Kết luận: \n",
    "- Do alpha = 0.05 và p-value = 0.5813562745637688(số bên phải)... \n",
    "suy ra, đủ dữ liệu để nói rằng trung bình Doanh số bằng 3250\n",
    "hay nói cách khác là chấp nhận H0 ở mức sai lầm 5%\n",
    "'''"
   ]
  },
  {
   "cell_type": "code",
   "execution_count": 33,
   "metadata": {},
   "outputs": [
    {
     "data": {
      "text/plain": [
       "(-22.61276099777003, 3.2458706025574075e-113)"
      ]
     },
     "execution_count": 33,
     "metadata": {},
     "output_type": "execute_result"
    }
   ],
   "source": [
    "# TWO SAMPLE Z - TEST\n",
    "# Câu hỏi: Hãy kiểm tra xem điểm trung bình toán học kì 1 \n",
    "# và học kì 2 lớp 12 có bằng nhau hay không\n",
    "ztest(df_f['PRICEEACH'], df['SALES'], value=0)"
   ]
  },
  {
   "cell_type": "code",
   "execution_count": 34,
   "metadata": {},
   "outputs": [
    {
     "ename": "NameError",
     "evalue": "name 'stats' is not defined",
     "output_type": "error",
     "traceback": [
      "\u001b[1;31m---------------------------------------------------------------------------\u001b[0m",
      "\u001b[1;31mNameError\u001b[0m                                 Traceback (most recent call last)",
      "\u001b[1;32me:\\Documents\\PTDL1\\20119831\\ontap_4.ipynb Cell 34\u001b[0m in \u001b[0;36m8\n\u001b[0;32m      <a href='vscode-notebook-cell:/e%3A/Documents/PTDL1/20119831/ontap_4.ipynb#X45sZmlsZQ%3D%3D?line=1'>2</a>\u001b[0m \u001b[39m'''\u001b[39;00m\n\u001b[0;32m      <a href='vscode-notebook-cell:/e%3A/Documents/PTDL1/20119831/ontap_4.ipynb#X45sZmlsZQ%3D%3D?line=2'>3</a>\u001b[0m \u001b[39mCâu hỏi: Hãy kiểm tra xem trung bình điểm thi LOGIC và trung bình điểm thi UNGXU của thí sinh khối C có bằng\u001b[39;00m\n\u001b[0;32m      <a href='vscode-notebook-cell:/e%3A/Documents/PTDL1/20119831/ontap_4.ipynb#X45sZmlsZQ%3D%3D?line=3'>4</a>\u001b[0m \u001b[39mnhau không\u001b[39;00m\n\u001b[0;32m      <a href='vscode-notebook-cell:/e%3A/Documents/PTDL1/20119831/ontap_4.ipynb#X45sZmlsZQ%3D%3D?line=4'>5</a>\u001b[0m \u001b[39mH0: mean_LOGIC = mean_UNGXU = 0\u001b[39;00m\n\u001b[0;32m      <a href='vscode-notebook-cell:/e%3A/Documents/PTDL1/20119831/ontap_4.ipynb#X45sZmlsZQ%3D%3D?line=5'>6</a>\u001b[0m \u001b[39m'''\u001b[39;00m\n\u001b[0;32m      <a href='vscode-notebook-cell:/e%3A/Documents/PTDL1/20119831/ontap_4.ipynb#X45sZmlsZQ%3D%3D?line=6'>7</a>\u001b[0m dfKhoiC \u001b[39m=\u001b[39m df\u001b[39m.\u001b[39mloc[df[\u001b[39m'\u001b[39m\u001b[39mCOUNTRY\u001b[39m\u001b[39m'\u001b[39m] \u001b[39m==\u001b[39m \u001b[39m'\u001b[39m\u001b[39mUSA\u001b[39m\u001b[39m'\u001b[39m]\n\u001b[1;32m----> <a href='vscode-notebook-cell:/e%3A/Documents/PTDL1/20119831/ontap_4.ipynb#X45sZmlsZQ%3D%3D?line=7'>8</a>\u001b[0m stats\u001b[39m.\u001b[39mttest_ind(dfKhoiC[\u001b[39m'\u001b[39m\u001b[39mSALES\u001b[39m\u001b[39m'\u001b[39m], dfKhoiC[\u001b[39m'\u001b[39m\u001b[39mPRICEEACH\u001b[39m\u001b[39m'\u001b[39m], equal_var\u001b[39m=\u001b[39m\u001b[39mTrue\u001b[39;00m)\n",
      "\u001b[1;31mNameError\u001b[0m: name 'stats' is not defined"
     ]
    }
   ],
   "source": [
    "# TWO T - TEST (N<30)\n",
    "'''\n",
    "Câu hỏi: Hãy kiểm tra xem trung bình điểm thi LOGIC và trung bình điểm thi UNGXU của thí sinh khối C có bằng\n",
    "nhau không\n",
    "H0: mean_LOGIC = mean_UNGXU = 0\n",
    "'''\n",
    "dfKhoiC = df.loc[df['COUNTRY'] == 'USA']\n",
    "stats.ttest_ind(dfKhoiC['SALES'], dfKhoiC['PRICEEACH'], equal_var=True)"
   ]
  },
  {
   "cell_type": "code",
   "execution_count": null,
   "metadata": {},
   "outputs": [
    {
     "data": {
      "text/plain": [
       "3613.5287151394423"
      ]
     },
     "execution_count": 109,
     "metadata": {},
     "output_type": "execute_result"
    }
   ],
   "source": [
    "dfKhoiC['SALES'].mean()"
   ]
  },
  {
   "cell_type": "code",
   "execution_count": null,
   "metadata": {},
   "outputs": [
    {
     "data": {
      "text/plain": [
       "83.82435258964144"
      ]
     },
     "execution_count": 110,
     "metadata": {},
     "output_type": "execute_result"
    }
   ],
   "source": [
    "dfKhoiC['PRICEEACH'].mean()"
   ]
  },
  {
   "cell_type": "code",
   "execution_count": null,
   "metadata": {},
   "outputs": [
    {
     "name": "stderr",
     "output_type": "stream",
     "text": [
      "C:\\Users\\Admin\\AppData\\Local\\Temp\\ipykernel_17388\\177411619.py:4: DeprecationWarning: Please use `pearsonr` from the `scipy.stats` namespace, the `scipy.stats.stats` namespace is deprecated.\n",
      "  from scipy.stats.stats import pearsonr\n"
     ]
    }
   ],
   "source": [
    "# Kiểm định PEARSON\n",
    "# Kiểm định tương quan\n",
    "# r = 0\n",
    "from scipy.stats.stats import pearsonr"
   ]
  },
  {
   "cell_type": "code",
   "execution_count": null,
   "metadata": {},
   "outputs": [
    {
     "data": {
      "text/plain": [
       "'\\nKết luận: tương quan thuận, mức độ tương quan rất cao r = 0.7786831657869809\\nSuy diên trên tổng thể: đủ dlieu để nói rằng T5 và T6 có tươmg quan với nhau với mức sai \\nlầm là 5%\\n'"
      ]
     },
     "execution_count": 112,
     "metadata": {},
     "output_type": "execute_result"
    }
   ],
   "source": [
    "# Câu 5: Kiểm tra xem điểm toán học kì 1 và học kì 2 nằm lớp 12 có tương quan không?\n",
    "pearsonr(df['SALES'],df['QUANTITYORDERED'])\n",
    "'''\n",
    "Kết luận: Không cso tương quan r = 2.359594797034729e-224\n",
    "Suy diên trên tổng thể: đéo đủ dlieu để nói rằng SALES và QUANTITYORDERED có tươmg quan với nhau với mức sai \n",
    "lầm là 5%\n",
    "nêu mà p-values > 0.05 thì kết luận ngược lại(xem tương quan có tốt hay không)\n",
    "'''"
   ]
  },
  {
   "cell_type": "code",
   "execution_count": null,
   "metadata": {},
   "outputs": [
    {
     "data": {
      "text/plain": [
       "PearsonRResult(statistic=0.5514261919183571, pvalue=2.359594797034729e-224)"
      ]
     },
     "execution_count": 113,
     "metadata": {},
     "output_type": "execute_result"
    }
   ],
   "source": [
    "pearsonr(df['SALES'],df['QUANTITYORDERED'])"
   ]
  },
  {
   "cell_type": "code",
   "execution_count": null,
   "metadata": {},
   "outputs": [],
   "source": [
    "'''\n",
    "FISHER - TEST\n",
    "Mục đích: kiểm tra sự độc lập của 2 biến định tính dạng nhị phân 2x2\n",
    "H0: khống có sự khác biệt giữa 2 biến định tính\n",
    "'''\n",
    "import scipy.stats as stats"
   ]
  },
  {
   "cell_type": "code",
   "execution_count": null,
   "metadata": {},
   "outputs": [
    {
     "data": {
      "text/html": [
       "<div>\n",
       "<style scoped>\n",
       "    .dataframe tbody tr th:only-of-type {\n",
       "        vertical-align: middle;\n",
       "    }\n",
       "\n",
       "    .dataframe tbody tr th {\n",
       "        vertical-align: top;\n",
       "    }\n",
       "\n",
       "    .dataframe thead th {\n",
       "        text-align: right;\n",
       "    }\n",
       "</style>\n",
       "<table border=\"1\" class=\"dataframe\">\n",
       "  <thead>\n",
       "    <tr style=\"text-align: right;\">\n",
       "      <th>DEALSIZE</th>\n",
       "      <th>Large</th>\n",
       "      <th>Medium</th>\n",
       "      <th>Small</th>\n",
       "    </tr>\n",
       "    <tr>\n",
       "      <th>YEAR_ID</th>\n",
       "      <th></th>\n",
       "      <th></th>\n",
       "      <th></th>\n",
       "    </tr>\n",
       "  </thead>\n",
       "  <tbody>\n",
       "    <tr>\n",
       "      <th>2003</th>\n",
       "      <td>54</td>\n",
       "      <td>502</td>\n",
       "      <td>444</td>\n",
       "    </tr>\n",
       "    <tr>\n",
       "      <th>2004</th>\n",
       "      <td>63</td>\n",
       "      <td>648</td>\n",
       "      <td>634</td>\n",
       "    </tr>\n",
       "    <tr>\n",
       "      <th>2005</th>\n",
       "      <td>40</td>\n",
       "      <td>234</td>\n",
       "      <td>204</td>\n",
       "    </tr>\n",
       "  </tbody>\n",
       "</table>\n",
       "</div>"
      ],
      "text/plain": [
       "DEALSIZE  Large  Medium  Small\n",
       "YEAR_ID                       \n",
       "2003         54     502    444\n",
       "2004         63     648    634\n",
       "2005         40     234    204"
      ]
     },
     "execution_count": 115,
     "metadata": {},
     "output_type": "execute_result"
    }
   ],
   "source": [
    "'''\n",
    "Hãy kiểm tra xem có sự phụ thuộc nào giữa năm(YEAR_ID)  \n",
    "và Kích thước (DEALSIZE)\n",
    "'''\n",
    "crossdata = pd.crosstab(df['YEAR_ID'], [df['DEALSIZE']], rownames=['YEAR_ID'], colnames=['DEALSIZE'])\n",
    "crossdata"
   ]
  },
  {
   "cell_type": "code",
   "execution_count": null,
   "metadata": {},
   "outputs": [
    {
     "ename": "ValueError",
     "evalue": "The input `table` must be of shape (2, 2).",
     "output_type": "error",
     "traceback": [
      "\u001b[1;31m---------------------------------------------------------------------------\u001b[0m",
      "\u001b[1;31mValueError\u001b[0m                                Traceback (most recent call last)",
      "\u001b[1;32me:\\Documents\\PTDL1\\20119831\\ontap_4.ipynb Cell 42\u001b[0m in \u001b[0;36m1\n\u001b[1;32m----> <a href='vscode-notebook-cell:/e%3A/Documents/PTDL1/20119831/ontap_4.ipynb#X66sZmlsZQ%3D%3D?line=0'>1</a>\u001b[0m odd_ratio, p_value \u001b[39m=\u001b[39m stats\u001b[39m.\u001b[39;49mfisher_exact(crossdata)\n\u001b[0;32m      <a href='vscode-notebook-cell:/e%3A/Documents/PTDL1/20119831/ontap_4.ipynb#X66sZmlsZQ%3D%3D?line=1'>2</a>\u001b[0m \u001b[39mprint\u001b[39m(\u001b[39m'\u001b[39m\u001b[39modd ratio is: \u001b[39m\u001b[39m'\u001b[39m \u001b[39m+\u001b[39m \u001b[39mstr\u001b[39m(odd_ratio))\n\u001b[0;32m      <a href='vscode-notebook-cell:/e%3A/Documents/PTDL1/20119831/ontap_4.ipynb#X66sZmlsZQ%3D%3D?line=2'>3</a>\u001b[0m \u001b[39mprint\u001b[39m(\u001b[39m'\u001b[39m\u001b[39mp_value is: \u001b[39m\u001b[39m'\u001b[39m \u001b[39m+\u001b[39m \u001b[39mstr\u001b[39m(p_value))\n",
      "File \u001b[1;32m~\\AppData\\Roaming\\Python\\Python310\\site-packages\\scipy\\stats\\_stats_py.py:4668\u001b[0m, in \u001b[0;36mfisher_exact\u001b[1;34m(table, alternative)\u001b[0m\n\u001b[0;32m   4666\u001b[0m c \u001b[39m=\u001b[39m np\u001b[39m.\u001b[39masarray(table, dtype\u001b[39m=\u001b[39mnp\u001b[39m.\u001b[39mint64)\n\u001b[0;32m   4667\u001b[0m \u001b[39mif\u001b[39;00m \u001b[39mnot\u001b[39;00m c\u001b[39m.\u001b[39mshape \u001b[39m==\u001b[39m (\u001b[39m2\u001b[39m, \u001b[39m2\u001b[39m):\n\u001b[1;32m-> 4668\u001b[0m     \u001b[39mraise\u001b[39;00m \u001b[39mValueError\u001b[39;00m(\u001b[39m\"\u001b[39m\u001b[39mThe input `table` must be of shape (2, 2).\u001b[39m\u001b[39m\"\u001b[39m)\n\u001b[0;32m   4670\u001b[0m \u001b[39mif\u001b[39;00m np\u001b[39m.\u001b[39many(c \u001b[39m<\u001b[39m \u001b[39m0\u001b[39m):\n\u001b[0;32m   4671\u001b[0m     \u001b[39mraise\u001b[39;00m \u001b[39mValueError\u001b[39;00m(\u001b[39m\"\u001b[39m\u001b[39mAll values in `table` must be nonnegative.\u001b[39m\u001b[39m\"\u001b[39m)\n",
      "\u001b[1;31mValueError\u001b[0m: The input `table` must be of shape (2, 2)."
     ]
    }
   ],
   "source": [
    "odd_ratio, p_value = stats.fisher_exact(crossdata)\n",
    "print('odd ratio is: ' + str(odd_ratio))\n",
    "print('p_value is: ' + str(p_value))"
   ]
  },
  {
   "cell_type": "code",
   "execution_count": 38,
   "metadata": {},
   "outputs": [],
   "source": [
    "'''\n",
    "Chi-quare Test\n",
    "Mục đích: kiểm tra sự độc lập của 2 biến định tính\n",
    "H0: không có sự khác biệt giữa 2 biến định tính\n",
    "'''\n",
    "from scipy.stats import chi2_contingency"
   ]
  },
  {
   "cell_type": "code",
   "execution_count": 35,
   "metadata": {},
   "outputs": [
    {
     "data": {
      "text/html": [
       "<div>\n",
       "<style scoped>\n",
       "    .dataframe tbody tr th:only-of-type {\n",
       "        vertical-align: middle;\n",
       "    }\n",
       "\n",
       "    .dataframe tbody tr th {\n",
       "        vertical-align: top;\n",
       "    }\n",
       "\n",
       "    .dataframe thead th {\n",
       "        text-align: right;\n",
       "    }\n",
       "</style>\n",
       "<table border=\"1\" class=\"dataframe\">\n",
       "  <thead>\n",
       "    <tr style=\"text-align: right;\">\n",
       "      <th>YEAR_ID</th>\n",
       "      <th>2003</th>\n",
       "      <th>2004</th>\n",
       "      <th>2005</th>\n",
       "    </tr>\n",
       "    <tr>\n",
       "      <th>DEALSIZE</th>\n",
       "      <th></th>\n",
       "      <th></th>\n",
       "      <th></th>\n",
       "    </tr>\n",
       "  </thead>\n",
       "  <tbody>\n",
       "    <tr>\n",
       "      <th>Large</th>\n",
       "      <td>54</td>\n",
       "      <td>63</td>\n",
       "      <td>40</td>\n",
       "    </tr>\n",
       "    <tr>\n",
       "      <th>Medium</th>\n",
       "      <td>502</td>\n",
       "      <td>648</td>\n",
       "      <td>234</td>\n",
       "    </tr>\n",
       "    <tr>\n",
       "      <th>Small</th>\n",
       "      <td>444</td>\n",
       "      <td>634</td>\n",
       "      <td>204</td>\n",
       "    </tr>\n",
       "  </tbody>\n",
       "</table>\n",
       "</div>"
      ],
      "text/plain": [
       "YEAR_ID   2003  2004  2005\n",
       "DEALSIZE                  \n",
       "Large       54    63    40\n",
       "Medium     502   648   234\n",
       "Small      444   634   204"
      ]
     },
     "execution_count": 35,
     "metadata": {},
     "output_type": "execute_result"
    }
   ],
   "source": [
    "crossdata = pd.crosstab(df['DEALSIZE'], [df['YEAR_ID']], rownames=['DEALSIZE'], colnames=['YEAR_ID'])\n",
    "crossdata"
   ]
  },
  {
   "cell_type": "code",
   "execution_count": 39,
   "metadata": {},
   "outputs": [
    {
     "name": "stdout",
     "output_type": "stream",
     "text": [
      "p-value is 0.025978393356514286\n",
      "Dependent ( reject H0 )\n"
     ]
    },
    {
     "data": {
      "text/plain": [
       "'\\nKết luận: p-value = 0.02 < alpha = 0.05\\ntức là: không đủ dlieu để nói rằng YEAR_ID và DEALSIZE là độc lập hay có sự có quan hệ giữa Year và DealSIZE(bác bỏ)\\n'"
      ]
     },
     "execution_count": 39,
     "metadata": {},
     "output_type": "execute_result"
    }
   ],
   "source": [
    "stat, p, dof, excepted = chi2_contingency(crossdata)\n",
    "# interpret p-value:\n",
    "alpha = 0.05\n",
    "print('p-value is ' + str(p))\n",
    "if(p <= alpha):\n",
    "    print('Dependent ( reject H0 )')\n",
    "else:\n",
    "    print('Independent ( H0 holds true )')\n",
    "    \n",
    "'''\n",
    "Kết luận: p-value = 0.02 < alpha = 0.05\n",
    "tức là: không đủ dlieu để nói rằng YEAR_ID và DEALSIZE là độc lập hay có sự có quan hệ giữa Year và DealSIZE(bác bỏ)\n",
    "'''"
   ]
  },
  {
   "cell_type": "code",
   "execution_count": 40,
   "metadata": {},
   "outputs": [
    {
     "data": {
      "text/html": [
       "<div>\n",
       "<style scoped>\n",
       "    .dataframe tbody tr th:only-of-type {\n",
       "        vertical-align: middle;\n",
       "    }\n",
       "\n",
       "    .dataframe tbody tr th {\n",
       "        vertical-align: top;\n",
       "    }\n",
       "\n",
       "    .dataframe thead th {\n",
       "        text-align: right;\n",
       "    }\n",
       "</style>\n",
       "<table border=\"1\" class=\"dataframe\">\n",
       "  <thead>\n",
       "    <tr style=\"text-align: right;\">\n",
       "      <th></th>\n",
       "      <th>df</th>\n",
       "      <th>sum_sq</th>\n",
       "      <th>mean_sq</th>\n",
       "      <th>F</th>\n",
       "      <th>PR(&gt;F)</th>\n",
       "    </tr>\n",
       "  </thead>\n",
       "  <tbody>\n",
       "    <tr>\n",
       "      <th>YEAR_ID</th>\n",
       "      <td>1.0</td>\n",
       "      <td>1.216511e+07</td>\n",
       "      <td>1.216511e+07</td>\n",
       "      <td>3.589208</td>\n",
       "      <td>0.058258</td>\n",
       "    </tr>\n",
       "    <tr>\n",
       "      <th>Residual</th>\n",
       "      <td>2821.0</td>\n",
       "      <td>9.561377e+09</td>\n",
       "      <td>3.389357e+06</td>\n",
       "      <td>NaN</td>\n",
       "      <td>NaN</td>\n",
       "    </tr>\n",
       "  </tbody>\n",
       "</table>\n",
       "</div>"
      ],
      "text/plain": [
       "              df        sum_sq       mean_sq         F    PR(>F)\n",
       "YEAR_ID      1.0  1.216511e+07  1.216511e+07  3.589208  0.058258\n",
       "Residual  2821.0  9.561377e+09  3.389357e+06       NaN       NaN"
      ]
     },
     "execution_count": 40,
     "metadata": {},
     "output_type": "execute_result"
    }
   ],
   "source": [
    "'''\n",
    "ONE WAY ANOVA\n",
    "KIỂM ĐỊNH ANOVA ONE WAY\n",
    "YÊU CẦU: \n",
    "1. Biến định lượng trên nhóm định tính\n",
    "2. Các biến định lượng trên từng nhóm theo phân phối chuẩn\n",
    "3. H0: giá trị trung bình dlieu dluong trên từng nhóm dtinh là bằng nhau\n",
    "'''\n",
    "# Điểm toán kì 2 lớp 12 có phụ thuộc vào GT k\n",
    "import statsmodels.api as sm\n",
    "from statsmodels.formula.api import ols\n",
    "model = ols('SALES ~ YEAR_ID', data=df).fit()\n",
    "aov_table = sm.stats.anova_lm(model, typ=1)\n",
    "aov_table"
   ]
  },
  {
   "cell_type": "code",
   "execution_count": null,
   "metadata": {},
   "outputs": [],
   "source": [
    "'''\n",
    "Trả lời:\n",
    "H0: mean(nhóm GT) bằng nhau\n",
    "p-value = 0.058258 > 0.05 => chấp nhận\n",
    "=> SALES và YEAR_ID không phụ thuộc\n",
    "\n",
    "********************************\n",
    "Nếu p-value < 0.05 => bác bỏ\n",
    "=> SALES và YEAR_ID phụ thuộc\n",
    "'''\n"
   ]
  },
  {
   "cell_type": "code",
   "execution_count": 42,
   "metadata": {},
   "outputs": [
    {
     "name": "stdout",
     "output_type": "stream",
     "text": [
      "                    df        sum_sq       mean_sq         F    PR(>F)\n",
      "STATUS             5.0  5.921801e+07  1.184360e+07  3.505126  0.003673\n",
      "YEAR_ID            1.0  6.525252e+06  6.525252e+06  1.931155  0.164742\n",
      "STATUS:YEAR_ID     5.0  3.520669e+06  7.041338e+05  0.208389  0.959082\n",
      "Residual        2813.0  9.504952e+09  3.378938e+06       NaN       NaN\n"
     ]
    }
   ],
   "source": [
    "# Hãy cho biết điểm SALES có phụ thuộc vào loại DEALSIZE trên từng nhóm YEAR_ID hay k\n",
    "# Performing two-way ANOVA\n",
    "model = ols('SALES ~ STATUS + YEAR_ID + STATUS:YEAR_ID', data=df).fit()\n",
    "result = sm.stats.anova_lm(model, type=2)\n",
    "\n",
    "print(result)"
   ]
  },
  {
   "cell_type": "code",
   "execution_count": null,
   "metadata": {},
   "outputs": [],
   "source": [
    "'''\n",
    "p-value = 0.003673 => SALES phụ thuộc theo nhóm DEALSIZE\n",
    "p-value = 3.150065e-07 => SALES phụ thuộc theo nhóm DEALSIZE\n",
    "p-value = 9.981082e-01 => SALES phụ thuộc theo nhóm DEALSIZE trên từng loại YEAR_ID\n",
    "'''"
   ]
  }
 ],
 "metadata": {
  "kernelspec": {
   "display_name": "Python 3",
   "language": "python",
   "name": "python3"
  },
  "language_info": {
   "codemirror_mode": {
    "name": "ipython",
    "version": 3
   },
   "file_extension": ".py",
   "mimetype": "text/x-python",
   "name": "python",
   "nbconvert_exporter": "python",
   "pygments_lexer": "ipython3",
   "version": "3.10.8"
  },
  "orig_nbformat": 4
 },
 "nbformat": 4,
 "nbformat_minor": 2
}
